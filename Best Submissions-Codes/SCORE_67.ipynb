{
 "cells": [
  {
   "cell_type": "code",
   "execution_count": 1,
   "metadata": {
    "colab": {
     "base_uri": "https://localhost:8080/"
    },
    "id": "C5xF_amJivOg",
    "outputId": "eb6b1a25-d3e4-4edc-d22b-24271dde4cdb"
   },
   "outputs": [
    {
     "name": "stdout",
     "output_type": "stream",
     "text": [
      "Requirement already satisfied: scikit-learn in /usr/local/lib/python3.11/dist-packages (1.6.0)\n",
      "Collecting scikit-learn\n",
      "  Downloading scikit_learn-1.6.1-cp311-cp311-manylinux_2_17_x86_64.manylinux2014_x86_64.whl.metadata (18 kB)\n",
      "Requirement already satisfied: numpy>=1.19.5 in /usr/local/lib/python3.11/dist-packages (from scikit-learn) (1.26.4)\n",
      "Requirement already satisfied: scipy>=1.6.0 in /usr/local/lib/python3.11/dist-packages (from scikit-learn) (1.13.1)\n",
      "Requirement already satisfied: joblib>=1.2.0 in /usr/local/lib/python3.11/dist-packages (from scikit-learn) (1.4.2)\n",
      "Requirement already satisfied: threadpoolctl>=3.1.0 in /usr/local/lib/python3.11/dist-packages (from scikit-learn) (3.5.0)\n",
      "Downloading scikit_learn-1.6.1-cp311-cp311-manylinux_2_17_x86_64.manylinux2014_x86_64.whl (13.5 MB)\n",
      "\u001b[2K   \u001b[90m━━━━━━━━━━━━━━━━━━━━━━━━━━━━━━━━━━━━━━━━\u001b[0m \u001b[32m13.5/13.5 MB\u001b[0m \u001b[31m33.1 MB/s\u001b[0m eta \u001b[36m0:00:00\u001b[0m\n",
      "\u001b[?25hInstalling collected packages: scikit-learn\n",
      "  Attempting uninstall: scikit-learn\n",
      "    Found existing installation: scikit-learn 1.6.0\n",
      "    Uninstalling scikit-learn-1.6.0:\n",
      "      Successfully uninstalled scikit-learn-1.6.0\n",
      "Successfully installed scikit-learn-1.6.1\n",
      "Requirement already satisfied: torch in /usr/local/lib/python3.11/dist-packages (2.5.1+cu121)\n",
      "Requirement already satisfied: filelock in /usr/local/lib/python3.11/dist-packages (from torch) (3.16.1)\n",
      "Requirement already satisfied: typing-extensions>=4.8.0 in /usr/local/lib/python3.11/dist-packages (from torch) (4.12.2)\n",
      "Requirement already satisfied: networkx in /usr/local/lib/python3.11/dist-packages (from torch) (3.4.2)\n",
      "Requirement already satisfied: jinja2 in /usr/local/lib/python3.11/dist-packages (from torch) (3.1.5)\n",
      "Requirement already satisfied: fsspec in /usr/local/lib/python3.11/dist-packages (from torch) (2024.10.0)\n",
      "Requirement already satisfied: nvidia-cuda-nvrtc-cu12==12.1.105 in /usr/local/lib/python3.11/dist-packages (from torch) (12.1.105)\n",
      "Requirement already satisfied: nvidia-cuda-runtime-cu12==12.1.105 in /usr/local/lib/python3.11/dist-packages (from torch) (12.1.105)\n",
      "Requirement already satisfied: nvidia-cuda-cupti-cu12==12.1.105 in /usr/local/lib/python3.11/dist-packages (from torch) (12.1.105)\n",
      "Requirement already satisfied: nvidia-cudnn-cu12==9.1.0.70 in /usr/local/lib/python3.11/dist-packages (from torch) (9.1.0.70)\n",
      "Requirement already satisfied: nvidia-cublas-cu12==12.1.3.1 in /usr/local/lib/python3.11/dist-packages (from torch) (12.1.3.1)\n",
      "Requirement already satisfied: nvidia-cufft-cu12==11.0.2.54 in /usr/local/lib/python3.11/dist-packages (from torch) (11.0.2.54)\n",
      "Requirement already satisfied: nvidia-curand-cu12==10.3.2.106 in /usr/local/lib/python3.11/dist-packages (from torch) (10.3.2.106)\n",
      "Requirement already satisfied: nvidia-cusolver-cu12==11.4.5.107 in /usr/local/lib/python3.11/dist-packages (from torch) (11.4.5.107)\n",
      "Requirement already satisfied: nvidia-cusparse-cu12==12.1.0.106 in /usr/local/lib/python3.11/dist-packages (from torch) (12.1.0.106)\n",
      "Requirement already satisfied: nvidia-nccl-cu12==2.21.5 in /usr/local/lib/python3.11/dist-packages (from torch) (2.21.5)\n",
      "Requirement already satisfied: nvidia-nvtx-cu12==12.1.105 in /usr/local/lib/python3.11/dist-packages (from torch) (12.1.105)\n",
      "Requirement already satisfied: triton==3.1.0 in /usr/local/lib/python3.11/dist-packages (from torch) (3.1.0)\n",
      "Requirement already satisfied: sympy==1.13.1 in /usr/local/lib/python3.11/dist-packages (from torch) (1.13.1)\n",
      "Requirement already satisfied: nvidia-nvjitlink-cu12 in /usr/local/lib/python3.11/dist-packages (from nvidia-cusolver-cu12==11.4.5.107->torch) (12.6.85)\n",
      "Requirement already satisfied: mpmath<1.4,>=1.1.0 in /usr/local/lib/python3.11/dist-packages (from sympy==1.13.1->torch) (1.3.0)\n",
      "Requirement already satisfied: MarkupSafe>=2.0 in /usr/local/lib/python3.11/dist-packages (from jinja2->torch) (3.0.2)\n",
      "Collecting imblearn\n",
      "  Downloading imblearn-0.0-py2.py3-none-any.whl.metadata (355 bytes)\n",
      "Requirement already satisfied: imbalanced-learn in /usr/local/lib/python3.11/dist-packages (from imblearn) (0.13.0)\n",
      "Requirement already satisfied: numpy<3,>=1.24.3 in /usr/local/lib/python3.11/dist-packages (from imbalanced-learn->imblearn) (1.26.4)\n",
      "Requirement already satisfied: scipy<2,>=1.10.1 in /usr/local/lib/python3.11/dist-packages (from imbalanced-learn->imblearn) (1.13.1)\n",
      "Requirement already satisfied: scikit-learn<2,>=1.3.2 in /usr/local/lib/python3.11/dist-packages (from imbalanced-learn->imblearn) (1.6.1)\n",
      "Requirement already satisfied: sklearn-compat<1,>=0.1 in /usr/local/lib/python3.11/dist-packages (from imbalanced-learn->imblearn) (0.1.3)\n",
      "Requirement already satisfied: joblib<2,>=1.1.1 in /usr/local/lib/python3.11/dist-packages (from imbalanced-learn->imblearn) (1.4.2)\n",
      "Requirement already satisfied: threadpoolctl<4,>=2.0.0 in /usr/local/lib/python3.11/dist-packages (from imbalanced-learn->imblearn) (3.5.0)\n",
      "Downloading imblearn-0.0-py2.py3-none-any.whl (1.9 kB)\n",
      "Installing collected packages: imblearn\n",
      "Successfully installed imblearn-0.0\n",
      "Collecting catboost\n",
      "  Downloading catboost-1.2.7-cp311-cp311-manylinux2014_x86_64.whl.metadata (1.2 kB)\n",
      "Requirement already satisfied: graphviz in /usr/local/lib/python3.11/dist-packages (from catboost) (0.20.3)\n",
      "Requirement already satisfied: matplotlib in /usr/local/lib/python3.11/dist-packages (from catboost) (3.10.0)\n",
      "Requirement already satisfied: numpy<2.0,>=1.16.0 in /usr/local/lib/python3.11/dist-packages (from catboost) (1.26.4)\n",
      "Requirement already satisfied: pandas>=0.24 in /usr/local/lib/python3.11/dist-packages (from catboost) (2.2.2)\n",
      "Requirement already satisfied: scipy in /usr/local/lib/python3.11/dist-packages (from catboost) (1.13.1)\n",
      "Requirement already satisfied: plotly in /usr/local/lib/python3.11/dist-packages (from catboost) (5.24.1)\n",
      "Requirement already satisfied: six in /usr/local/lib/python3.11/dist-packages (from catboost) (1.17.0)\n",
      "Requirement already satisfied: python-dateutil>=2.8.2 in /usr/local/lib/python3.11/dist-packages (from pandas>=0.24->catboost) (2.8.2)\n",
      "Requirement already satisfied: pytz>=2020.1 in /usr/local/lib/python3.11/dist-packages (from pandas>=0.24->catboost) (2024.2)\n",
      "Requirement already satisfied: tzdata>=2022.7 in /usr/local/lib/python3.11/dist-packages (from pandas>=0.24->catboost) (2024.2)\n",
      "Requirement already satisfied: contourpy>=1.0.1 in /usr/local/lib/python3.11/dist-packages (from matplotlib->catboost) (1.3.1)\n",
      "Requirement already satisfied: cycler>=0.10 in /usr/local/lib/python3.11/dist-packages (from matplotlib->catboost) (0.12.1)\n",
      "Requirement already satisfied: fonttools>=4.22.0 in /usr/local/lib/python3.11/dist-packages (from matplotlib->catboost) (4.55.3)\n",
      "Requirement already satisfied: kiwisolver>=1.3.1 in /usr/local/lib/python3.11/dist-packages (from matplotlib->catboost) (1.4.8)\n",
      "Requirement already satisfied: packaging>=20.0 in /usr/local/lib/python3.11/dist-packages (from matplotlib->catboost) (24.2)\n",
      "Requirement already satisfied: pillow>=8 in /usr/local/lib/python3.11/dist-packages (from matplotlib->catboost) (11.1.0)\n",
      "Requirement already satisfied: pyparsing>=2.3.1 in /usr/local/lib/python3.11/dist-packages (from matplotlib->catboost) (3.2.1)\n",
      "Requirement already satisfied: tenacity>=6.2.0 in /usr/local/lib/python3.11/dist-packages (from plotly->catboost) (9.0.0)\n",
      "Downloading catboost-1.2.7-cp311-cp311-manylinux2014_x86_64.whl (98.7 MB)\n",
      "\u001b[2K   \u001b[90m━━━━━━━━━━━━━━━━━━━━━━━━━━━━━━━━━━━━━━━━\u001b[0m \u001b[32m98.7/98.7 MB\u001b[0m \u001b[31m8.2 MB/s\u001b[0m eta \u001b[36m0:00:00\u001b[0m\n",
      "\u001b[?25hInstalling collected packages: catboost\n",
      "Successfully installed catboost-1.2.7\n",
      "Requirement already satisfied: xgboost in /usr/local/lib/python3.11/dist-packages (2.1.3)\n",
      "Requirement already satisfied: numpy in /usr/local/lib/python3.11/dist-packages (from xgboost) (1.26.4)\n",
      "Requirement already satisfied: nvidia-nccl-cu12 in /usr/local/lib/python3.11/dist-packages (from xgboost) (2.21.5)\n",
      "Requirement already satisfied: scipy in /usr/local/lib/python3.11/dist-packages (from xgboost) (1.13.1)\n"
     ]
    }
   ],
   "source": [
    "!pip install --upgrade scikit-learn\n",
    "!pip install torch\n",
    "!pip install imblearn\n",
    "!pip install catboost\n",
    "!pip install xgboost"
   ]
  },
  {
   "cell_type": "code",
   "execution_count": 23,
   "metadata": {
    "id": "xHkaEAvPiyb0"
   },
   "outputs": [],
   "source": [
    "# Import necessary libraries\n",
    "import pandas as pd\n",
    "import numpy as np\n",
    "import tensorflow as tf\n",
    "from tensorflow.keras.models import Sequential\n",
    "from tensorflow.keras.layers import Dense, Dropout, BatchNormalization\n",
    "from tensorflow.keras.callbacks import EarlyStopping, ReduceLROnPlateau\n",
    "from sklearn.model_selection import train_test_split\n",
    "from sklearn.preprocessing import StandardScaler, OneHotEncoder\n",
    "from sklearn.compose import ColumnTransformer\n",
    "from tensorflow.keras.models import Sequential\n",
    "from tensorflow.keras.layers import Dense, Dropout, BatchNormalization\n",
    "from tensorflow.keras.callbacks import EarlyStopping, ReduceLROnPlateau\n",
    "from sklearn.model_selection import train_test_split\n",
    "from sklearn.preprocessing import StandardScaler, OneHotEncoder\n",
    "from sklearn.compose import ColumnTransformer\n",
    "from sklearn.metrics import f1_score\n",
    "from imblearn.over_sampling import SMOTE\n",
    "from sklearn.utils.class_weight import compute_class_weight\n",
    "from sklearn.metrics import f1_score"
   ]
  },
  {
   "cell_type": "code",
   "execution_count": 24,
   "metadata": {
    "id": "3L7f5H0Ciyl0"
   },
   "outputs": [],
   "source": [
    "# Load datasets\n",
    "train_data = pd.read_csv(\"/content/Train.csv\")  # Correct file\n",
    "test_data = pd.read_csv(\"/content/Test.csv\")  # Correct file\n",
    "economic_data = pd.read_csv(\"/content/economic_indicators.csv\")"
   ]
  },
  {
   "cell_type": "code",
   "execution_count": 25,
   "metadata": {
    "id": "fjY5iPqDiysD"
   },
   "outputs": [],
   "source": [
    "# Feature Engineering\n",
    "train_data['loan_to_repay_ratio'] = train_data['Total_Amount'] / (train_data['Total_Amount_to_Repay'] + 1)\n",
    "test_data['loan_to_repay_ratio'] = test_data['Total_Amount'] / (test_data['Total_Amount_to_Repay'] + 1)"
   ]
  },
  {
   "cell_type": "code",
   "execution_count": 26,
   "metadata": {
    "id": "io8wa4BFiyvE"
   },
   "outputs": [],
   "source": [
    "# Merge Economic Indicators\n",
    "if 'country_id' in train_data.columns and 'country_id' in economic_data.columns:\n",
    "    train_data = train_data.merge(economic_data, on='country_id', how='left')\n",
    "    test_data = test_data.merge(economic_data, on='country_id', how='left')"
   ]
  },
  {
   "cell_type": "code",
   "execution_count": 27,
   "metadata": {
    "id": "smkK-qa1iyyO"
   },
   "outputs": [],
   "source": [
    "# Handle Missing Values\n",
    "train_data.fillna(train_data.median(numeric_only=True), inplace=True)\n",
    "test_data.fillna(test_data.median(numeric_only=True), inplace=True)"
   ]
  },
  {
   "cell_type": "code",
   "execution_count": 7,
   "metadata": {
    "id": "wwebjIq5iy38"
   },
   "outputs": [],
   "source": [
    "# Interaction Features\n",
    "train_data['duration_ratio'] = train_data['Total_Amount'] / (train_data['duration'] + 1)\n",
    "test_data['duration_ratio'] = test_data['Total_Amount'] / (test_data['duration'] + 1)"
   ]
  },
  {
   "cell_type": "code",
   "execution_count": 8,
   "metadata": {
    "colab": {
     "base_uri": "https://localhost:8080/"
    },
    "id": "vcbtUJU_iy7N",
    "outputId": "eb91e346-5d23-4b8f-e3b2-e4e5cfeedd67"
   },
   "outputs": [
    {
     "name": "stdout",
     "output_type": "stream",
     "text": [
      "Warning: 'country_id' column not found in one or both datasets. Skipping merge.\n"
     ]
    }
   ],
   "source": [
    "# Merge Economic Indicators if 'country_id' exists\n",
    "if 'country_id' in train_data.columns and 'country_id' in economic_data.columns:\n",
    "    train_data = train_data.merge(economic_data, on='country_id', how='left')\n",
    "    test_data = test_data.merge(economic_data, on='country_id', how='left')\n",
    "else:\n",
    "    print(\"Warning: 'country_id' column not found in one or both datasets. Skipping merge.\")"
   ]
  },
  {
   "cell_type": "code",
   "execution_count": 9,
   "metadata": {
    "id": "kPMol_Priy-C"
   },
   "outputs": [],
   "source": [
    "# Handle Missing Values\n",
    "train_data.fillna(train_data.median(numeric_only=True), inplace=True)\n",
    "test_data.fillna(test_data.median(numeric_only=True), inplace=True)"
   ]
  },
  {
   "cell_type": "code",
   "execution_count": 10,
   "metadata": {
    "id": "ArpfU4KEizA3"
   },
   "outputs": [],
   "source": [
    "# Prepare Features and Target\n",
    "X_train_full = train_data.drop(columns=['ID', 'target'], errors='ignore')\n",
    "y_train_full = train_data['target']"
   ]
  },
  {
   "cell_type": "code",
   "execution_count": 28,
   "metadata": {
    "id": "rhy_OSozizEA"
   },
   "outputs": [],
   "source": [
    "# Prepare Features and Target\n",
    "X = train_data.drop(columns=['ID', 'target'])\n",
    "y = train_data['target']"
   ]
  },
  {
   "cell_type": "code",
   "execution_count": 29,
   "metadata": {
    "id": "5LkV3eFqizJ9"
   },
   "outputs": [],
   "source": [
    "# Identify categorical and numerical columns\n",
    "categorical_cols = [col for col in ['country_id', 'disbursement_date'] if col in train_data.columns]\n",
    "numerical_cols = ['Total_Amount', 'Total_Amount_to_Repay', 'loan_to_repay_ratio']"
   ]
  },
  {
   "cell_type": "code",
   "execution_count": 30,
   "metadata": {
    "id": "Te0w3mkoizM5"
   },
   "outputs": [],
   "source": [
    "# Preprocessing Pipeline\n",
    "preprocessor = ColumnTransformer([\n",
    "    ('num', StandardScaler(), numerical_cols),\n",
    "    ('cat', OneHotEncoder(drop='first', handle_unknown='ignore'), categorical_cols)\n",
    "])\n",
    "\n",
    "X_processed = preprocessor.fit_transform(X)\n",
    "\n"
   ]
  },
  {
   "cell_type": "code",
   "execution_count": 31,
   "metadata": {
    "id": "R-ELlLYTrdp-"
   },
   "outputs": [],
   "source": [
    "# Split data\n",
    "X_train, X_val, y_train, y_val = train_test_split(X_processed, y, test_size=0.2, random_state=42, stratify=y)"
   ]
  },
  {
   "cell_type": "code",
   "execution_count": 32,
   "metadata": {
    "id": "fO-YpubOizPV"
   },
   "outputs": [],
   "source": [
    "# Handle Imbalanced Data using SMOTE\n",
    "smote = SMOTE(random_state=42)\n",
    "X_train_resampled, y_train_resampled = smote.fit_resample(X_train, y_train)"
   ]
  },
  {
   "cell_type": "code",
   "execution_count": 33,
   "metadata": {
    "id": "kHpFPbZgrkg2"
   },
   "outputs": [],
   "source": [
    "# Class Weights Calculation\n",
    "class_weights = compute_class_weight('balanced', classes=np.unique(y), y=y)\n",
    "class_weights_dict = dict(enumerate(class_weights))"
   ]
  },
  {
   "cell_type": "code",
   "execution_count": 34,
   "metadata": {
    "colab": {
     "base_uri": "https://localhost:8080/"
    },
    "id": "bJa4-p2jrqTF",
    "outputId": "12e49698-f7b6-495c-ab84-aa018e118092"
   },
   "outputs": [
    {
     "name": "stderr",
     "output_type": "stream",
     "text": [
      "/usr/local/lib/python3.11/dist-packages/keras/src/layers/core/dense.py:87: UserWarning: Do not pass an `input_shape`/`input_dim` argument to a layer. When using Sequential models, prefer using an `Input(shape)` object as the first layer in the model instead.\n",
      "  super().__init__(activity_regularizer=activity_regularizer, **kwargs)\n"
     ]
    }
   ],
   "source": [
    "# Define Deep Learning Model\n",
    "model = Sequential([\n",
    "    Dense(256, activation='relu', input_shape=(X_train_resampled.shape[1],)),\n",
    "    BatchNormalization(),\n",
    "    Dropout(0.3),\n",
    "\n",
    "    Dense(128, activation='relu'),\n",
    "    BatchNormalization(),\n",
    "    Dropout(0.3),\n",
    "\n",
    "    Dense(64, activation='relu'),\n",
    "    BatchNormalization(),\n",
    "    Dropout(0.3),\n",
    "\n",
    "    Dense(1, activation='sigmoid')  # Binary classification\n",
    "])"
   ]
  },
  {
   "cell_type": "code",
   "execution_count": 35,
   "metadata": {
    "id": "8lN7vXkLrqXn"
   },
   "outputs": [],
   "source": [
    "# Compile Model\n",
    "model.compile(optimizer=tf.keras.optimizers.Adam(learning_rate=0.001),\n",
    "              loss='binary_crossentropy',\n",
    "              metrics=['accuracy'])"
   ]
  },
  {
   "cell_type": "code",
   "execution_count": 36,
   "metadata": {
    "id": "96T1zw4IrqbG"
   },
   "outputs": [],
   "source": [
    "# Callbacks for Early Stopping and Learning Rate Reduction\n",
    "early_stopping = EarlyStopping(monitor='val_loss', patience=10, restore_best_weights=True)\n",
    "reduce_lr = ReduceLROnPlateau(monitor='val_loss', factor=0.5, patience=5)"
   ]
  },
  {
   "cell_type": "code",
   "execution_count": 37,
   "metadata": {
    "colab": {
     "base_uri": "https://localhost:8080/"
    },
    "id": "X1dt2R3WrqeN",
    "outputId": "a0719a21-e0ff-4ad9-b65f-ac307d687cce"
   },
   "outputs": [
    {
     "name": "stdout",
     "output_type": "stream",
     "text": [
      "Epoch 1/100\n",
      "\u001b[1m1685/1685\u001b[0m \u001b[32m━━━━━━━━━━━━━━━━━━━━\u001b[0m\u001b[37m\u001b[0m \u001b[1m22s\u001b[0m 9ms/step - accuracy: 0.6593 - loss: 3.0048 - val_accuracy: 0.3657 - val_loss: 1.7788 - learning_rate: 0.0010\n",
      "Epoch 2/100\n",
      "\u001b[1m1685/1685\u001b[0m \u001b[32m━━━━━━━━━━━━━━━━━━━━\u001b[0m\u001b[37m\u001b[0m \u001b[1m24s\u001b[0m 11ms/step - accuracy: 0.8321 - loss: 0.3904 - val_accuracy: 0.7980 - val_loss: 0.7249 - learning_rate: 0.0010\n",
      "Epoch 3/100\n",
      "\u001b[1m1685/1685\u001b[0m \u001b[32m━━━━━━━━━━━━━━━━━━━━\u001b[0m\u001b[37m\u001b[0m \u001b[1m21s\u001b[0m 12ms/step - accuracy: 0.9020 - loss: 0.2405 - val_accuracy: 0.4807 - val_loss: 1.2278 - learning_rate: 0.0010\n",
      "Epoch 4/100\n",
      "\u001b[1m1685/1685\u001b[0m \u001b[32m━━━━━━━━━━━━━━━━━━━━\u001b[0m\u001b[37m\u001b[0m \u001b[1m16s\u001b[0m 9ms/step - accuracy: 0.9261 - loss: 0.1891 - val_accuracy: 0.8959 - val_loss: 0.3989 - learning_rate: 0.0010\n",
      "Epoch 5/100\n",
      "\u001b[1m1685/1685\u001b[0m \u001b[32m━━━━━━━━━━━━━━━━━━━━\u001b[0m\u001b[37m\u001b[0m \u001b[1m16s\u001b[0m 9ms/step - accuracy: 0.9408 - loss: 0.1559 - val_accuracy: 0.8159 - val_loss: 0.6083 - learning_rate: 0.0010\n",
      "Epoch 6/100\n",
      "\u001b[1m1685/1685\u001b[0m \u001b[32m━━━━━━━━━━━━━━━━━━━━\u001b[0m\u001b[37m\u001b[0m \u001b[1m21s\u001b[0m 10ms/step - accuracy: 0.9467 - loss: 0.1466 - val_accuracy: 0.7981 - val_loss: 0.6873 - learning_rate: 0.0010\n",
      "Epoch 7/100\n",
      "\u001b[1m1685/1685\u001b[0m \u001b[32m━━━━━━━━━━━━━━━━━━━━\u001b[0m\u001b[37m\u001b[0m \u001b[1m20s\u001b[0m 9ms/step - accuracy: 0.9475 - loss: 0.1404 - val_accuracy: 0.8036 - val_loss: 0.7430 - learning_rate: 0.0010\n",
      "Epoch 8/100\n",
      "\u001b[1m1685/1685\u001b[0m \u001b[32m━━━━━━━━━━━━━━━━━━━━\u001b[0m\u001b[37m\u001b[0m \u001b[1m21s\u001b[0m 10ms/step - accuracy: 0.9540 - loss: 0.1218 - val_accuracy: 0.7604 - val_loss: 0.9749 - learning_rate: 0.0010\n",
      "Epoch 9/100\n",
      "\u001b[1m1685/1685\u001b[0m \u001b[32m━━━━━━━━━━━━━━━━━━━━\u001b[0m\u001b[37m\u001b[0m \u001b[1m16s\u001b[0m 10ms/step - accuracy: 0.9591 - loss: 0.1115 - val_accuracy: 0.8482 - val_loss: 0.5912 - learning_rate: 0.0010\n",
      "Epoch 10/100\n",
      "\u001b[1m1685/1685\u001b[0m \u001b[32m━━━━━━━━━━━━━━━━━━━━\u001b[0m\u001b[37m\u001b[0m \u001b[1m24s\u001b[0m 12ms/step - accuracy: 0.9584 - loss: 0.1088 - val_accuracy: 0.8908 - val_loss: 0.4191 - learning_rate: 5.0000e-04\n",
      "Epoch 11/100\n",
      "\u001b[1m1685/1685\u001b[0m \u001b[32m━━━━━━━━━━━━━━━━━━━━\u001b[0m\u001b[37m\u001b[0m \u001b[1m16s\u001b[0m 9ms/step - accuracy: 0.9675 - loss: 0.0881 - val_accuracy: 0.9092 - val_loss: 0.3878 - learning_rate: 5.0000e-04\n",
      "Epoch 12/100\n",
      "\u001b[1m1685/1685\u001b[0m \u001b[32m━━━━━━━━━━━━━━━━━━━━\u001b[0m\u001b[37m\u001b[0m \u001b[1m20s\u001b[0m 9ms/step - accuracy: 0.9710 - loss: 0.0819 - val_accuracy: 0.8768 - val_loss: 0.4776 - learning_rate: 5.0000e-04\n",
      "Epoch 13/100\n",
      "\u001b[1m1685/1685\u001b[0m \u001b[32m━━━━━━━━━━━━━━━━━━━━\u001b[0m\u001b[37m\u001b[0m \u001b[1m20s\u001b[0m 12ms/step - accuracy: 0.9683 - loss: 0.0852 - val_accuracy: 0.8897 - val_loss: 0.4285 - learning_rate: 5.0000e-04\n",
      "Epoch 14/100\n",
      "\u001b[1m1685/1685\u001b[0m \u001b[32m━━━━━━━━━━━━━━━━━━━━\u001b[0m\u001b[37m\u001b[0m \u001b[1m17s\u001b[0m 10ms/step - accuracy: 0.9698 - loss: 0.0867 - val_accuracy: 0.9316 - val_loss: 0.2794 - learning_rate: 5.0000e-04\n",
      "Epoch 15/100\n",
      "\u001b[1m1685/1685\u001b[0m \u001b[32m━━━━━━━━━━━━━━━━━━━━\u001b[0m\u001b[37m\u001b[0m \u001b[1m23s\u001b[0m 11ms/step - accuracy: 0.9702 - loss: 0.0828 - val_accuracy: 0.8722 - val_loss: 0.5274 - learning_rate: 5.0000e-04\n",
      "Epoch 16/100\n",
      "\u001b[1m1685/1685\u001b[0m \u001b[32m━━━━━━━━━━━━━━━━━━━━\u001b[0m\u001b[37m\u001b[0m \u001b[1m16s\u001b[0m 9ms/step - accuracy: 0.9726 - loss: 0.0732 - val_accuracy: 0.9274 - val_loss: 0.2684 - learning_rate: 5.0000e-04\n",
      "Epoch 17/100\n",
      "\u001b[1m1685/1685\u001b[0m \u001b[32m━━━━━━━━━━━━━━━━━━━━\u001b[0m\u001b[37m\u001b[0m \u001b[1m16s\u001b[0m 9ms/step - accuracy: 0.9728 - loss: 0.0766 - val_accuracy: 0.9492 - val_loss: 0.2350 - learning_rate: 5.0000e-04\n",
      "Epoch 18/100\n",
      "\u001b[1m1685/1685\u001b[0m \u001b[32m━━━━━━━━━━━━━━━━━━━━\u001b[0m\u001b[37m\u001b[0m \u001b[1m20s\u001b[0m 9ms/step - accuracy: 0.9714 - loss: 0.0821 - val_accuracy: 0.9119 - val_loss: 0.3234 - learning_rate: 5.0000e-04\n",
      "Epoch 19/100\n",
      "\u001b[1m1685/1685\u001b[0m \u001b[32m━━━━━━━━━━━━━━━━━━━━\u001b[0m\u001b[37m\u001b[0m \u001b[1m21s\u001b[0m 9ms/step - accuracy: 0.9728 - loss: 0.0753 - val_accuracy: 0.8160 - val_loss: 0.8002 - learning_rate: 5.0000e-04\n",
      "Epoch 20/100\n",
      "\u001b[1m1685/1685\u001b[0m \u001b[32m━━━━━━━━━━━━━━━━━━━━\u001b[0m\u001b[37m\u001b[0m \u001b[1m16s\u001b[0m 9ms/step - accuracy: 0.9742 - loss: 0.0692 - val_accuracy: 0.8420 - val_loss: 0.6967 - learning_rate: 5.0000e-04\n",
      "Epoch 21/100\n",
      "\u001b[1m1685/1685\u001b[0m \u001b[32m━━━━━━━━━━━━━━━━━━━━\u001b[0m\u001b[37m\u001b[0m \u001b[1m17s\u001b[0m 10ms/step - accuracy: 0.9723 - loss: 0.0793 - val_accuracy: 0.8492 - val_loss: 0.6532 - learning_rate: 5.0000e-04\n",
      "Epoch 22/100\n",
      "\u001b[1m1685/1685\u001b[0m \u001b[32m━━━━━━━━━━━━━━━━━━━━\u001b[0m\u001b[37m\u001b[0m \u001b[1m19s\u001b[0m 9ms/step - accuracy: 0.9745 - loss: 0.0705 - val_accuracy: 0.9449 - val_loss: 0.2357 - learning_rate: 5.0000e-04\n",
      "Epoch 23/100\n",
      "\u001b[1m1685/1685\u001b[0m \u001b[32m━━━━━━━━━━━━━━━━━━━━\u001b[0m\u001b[37m\u001b[0m \u001b[1m21s\u001b[0m 9ms/step - accuracy: 0.9750 - loss: 0.0682 - val_accuracy: 0.9095 - val_loss: 0.3538 - learning_rate: 2.5000e-04\n",
      "Epoch 24/100\n",
      "\u001b[1m1685/1685\u001b[0m \u001b[32m━━━━━━━━━━━━━━━━━━━━\u001b[0m\u001b[37m\u001b[0m \u001b[1m20s\u001b[0m 9ms/step - accuracy: 0.9763 - loss: 0.0638 - val_accuracy: 0.9452 - val_loss: 0.2276 - learning_rate: 2.5000e-04\n",
      "Epoch 25/100\n",
      "\u001b[1m1685/1685\u001b[0m \u001b[32m━━━━━━━━━━━━━━━━━━━━\u001b[0m\u001b[37m\u001b[0m \u001b[1m16s\u001b[0m 10ms/step - accuracy: 0.9785 - loss: 0.0576 - val_accuracy: 0.8564 - val_loss: 0.6542 - learning_rate: 2.5000e-04\n",
      "Epoch 26/100\n",
      "\u001b[1m1685/1685\u001b[0m \u001b[32m━━━━━━━━━━━━━━━━━━━━\u001b[0m\u001b[37m\u001b[0m \u001b[1m16s\u001b[0m 9ms/step - accuracy: 0.9786 - loss: 0.0600 - val_accuracy: 0.9539 - val_loss: 0.2107 - learning_rate: 2.5000e-04\n",
      "Epoch 27/100\n",
      "\u001b[1m1685/1685\u001b[0m \u001b[32m━━━━━━━━━━━━━━━━━━━━\u001b[0m\u001b[37m\u001b[0m \u001b[1m16s\u001b[0m 9ms/step - accuracy: 0.9793 - loss: 0.0562 - val_accuracy: 0.8971 - val_loss: 0.4204 - learning_rate: 2.5000e-04\n",
      "Epoch 28/100\n",
      "\u001b[1m1685/1685\u001b[0m \u001b[32m━━━━━━━━━━━━━━━━━━━━\u001b[0m\u001b[37m\u001b[0m \u001b[1m20s\u001b[0m 10ms/step - accuracy: 0.9779 - loss: 0.0594 - val_accuracy: 0.8782 - val_loss: 0.5039 - learning_rate: 2.5000e-04\n",
      "Epoch 29/100\n",
      "\u001b[1m1685/1685\u001b[0m \u001b[32m━━━━━━━━━━━━━━━━━━━━\u001b[0m\u001b[37m\u001b[0m \u001b[1m21s\u001b[0m 10ms/step - accuracy: 0.9801 - loss: 0.0565 - val_accuracy: 0.9177 - val_loss: 0.3416 - learning_rate: 2.5000e-04\n",
      "Epoch 30/100\n",
      "\u001b[1m1685/1685\u001b[0m \u001b[32m━━━━━━━━━━━━━━━━━━━━\u001b[0m\u001b[37m\u001b[0m \u001b[1m20s\u001b[0m 9ms/step - accuracy: 0.9806 - loss: 0.0522 - val_accuracy: 0.8686 - val_loss: 0.5731 - learning_rate: 2.5000e-04\n",
      "Epoch 31/100\n",
      "\u001b[1m1685/1685\u001b[0m \u001b[32m━━━━━━━━━━━━━━━━━━━━\u001b[0m\u001b[37m\u001b[0m \u001b[1m22s\u001b[0m 10ms/step - accuracy: 0.9802 - loss: 0.0534 - val_accuracy: 0.9006 - val_loss: 0.4148 - learning_rate: 2.5000e-04\n",
      "Epoch 32/100\n",
      "\u001b[1m1685/1685\u001b[0m \u001b[32m━━━━━━━━━━━━━━━━━━━━\u001b[0m\u001b[37m\u001b[0m \u001b[1m16s\u001b[0m 9ms/step - accuracy: 0.9795 - loss: 0.0550 - val_accuracy: 0.8917 - val_loss: 0.4574 - learning_rate: 1.2500e-04\n",
      "Epoch 33/100\n",
      "\u001b[1m1685/1685\u001b[0m \u001b[32m━━━━━━━━━━━━━━━━━━━━\u001b[0m\u001b[37m\u001b[0m \u001b[1m20s\u001b[0m 9ms/step - accuracy: 0.9819 - loss: 0.0481 - val_accuracy: 0.8976 - val_loss: 0.4155 - learning_rate: 1.2500e-04\n",
      "Epoch 34/100\n",
      "\u001b[1m1685/1685\u001b[0m \u001b[32m━━━━━━━━━━━━━━━━━━━━\u001b[0m\u001b[37m\u001b[0m \u001b[1m16s\u001b[0m 9ms/step - accuracy: 0.9823 - loss: 0.0509 - val_accuracy: 0.9602 - val_loss: 0.1868 - learning_rate: 1.2500e-04\n",
      "Epoch 35/100\n",
      "\u001b[1m1685/1685\u001b[0m \u001b[32m━━━━━━━━━━━━━━━━━━━━\u001b[0m\u001b[37m\u001b[0m \u001b[1m21s\u001b[0m 10ms/step - accuracy: 0.9830 - loss: 0.0480 - val_accuracy: 0.9422 - val_loss: 0.2380 - learning_rate: 1.2500e-04\n",
      "Epoch 36/100\n",
      "\u001b[1m1685/1685\u001b[0m \u001b[32m━━━━━━━━━━━━━━━━━━━━\u001b[0m\u001b[37m\u001b[0m \u001b[1m17s\u001b[0m 10ms/step - accuracy: 0.9834 - loss: 0.0464 - val_accuracy: 0.9271 - val_loss: 0.3075 - learning_rate: 1.2500e-04\n",
      "Epoch 37/100\n",
      "\u001b[1m1685/1685\u001b[0m \u001b[32m━━━━━━━━━━━━━━━━━━━━\u001b[0m\u001b[37m\u001b[0m \u001b[1m16s\u001b[0m 10ms/step - accuracy: 0.9828 - loss: 0.0478 - val_accuracy: 0.9590 - val_loss: 0.1975 - learning_rate: 1.2500e-04\n",
      "Epoch 38/100\n",
      "\u001b[1m1685/1685\u001b[0m \u001b[32m━━━━━━━━━━━━━━━━━━━━\u001b[0m\u001b[37m\u001b[0m \u001b[1m21s\u001b[0m 10ms/step - accuracy: 0.9819 - loss: 0.0485 - val_accuracy: 0.9567 - val_loss: 0.1905 - learning_rate: 1.2500e-04\n",
      "Epoch 39/100\n",
      "\u001b[1m1685/1685\u001b[0m \u001b[32m━━━━━━━━━━━━━━━━━━━━\u001b[0m\u001b[37m\u001b[0m \u001b[1m20s\u001b[0m 9ms/step - accuracy: 0.9837 - loss: 0.0474 - val_accuracy: 0.9255 - val_loss: 0.3132 - learning_rate: 1.2500e-04\n",
      "Epoch 40/100\n",
      "\u001b[1m1685/1685\u001b[0m \u001b[32m━━━━━━━━━━━━━━━━━━━━\u001b[0m\u001b[37m\u001b[0m \u001b[1m21s\u001b[0m 9ms/step - accuracy: 0.9840 - loss: 0.0452 - val_accuracy: 0.8629 - val_loss: 0.5976 - learning_rate: 6.2500e-05\n",
      "Epoch 41/100\n",
      "\u001b[1m1685/1685\u001b[0m \u001b[32m━━━━━━━━━━━━━━━━━━━━\u001b[0m\u001b[37m\u001b[0m \u001b[1m20s\u001b[0m 9ms/step - accuracy: 0.9829 - loss: 0.0448 - val_accuracy: 0.9599 - val_loss: 0.1777 - learning_rate: 6.2500e-05\n",
      "Epoch 42/100\n",
      "\u001b[1m1685/1685\u001b[0m \u001b[32m━━━━━━━━━━━━━━━━━━━━\u001b[0m\u001b[37m\u001b[0m \u001b[1m16s\u001b[0m 9ms/step - accuracy: 0.9832 - loss: 0.0517 - val_accuracy: 0.9309 - val_loss: 0.2892 - learning_rate: 6.2500e-05\n",
      "Epoch 43/100\n",
      "\u001b[1m1685/1685\u001b[0m \u001b[32m━━━━━━━━━━━━━━━━━━━━\u001b[0m\u001b[37m\u001b[0m \u001b[1m16s\u001b[0m 9ms/step - accuracy: 0.9852 - loss: 0.0440 - val_accuracy: 0.9634 - val_loss: 0.1787 - learning_rate: 6.2500e-05\n",
      "Epoch 44/100\n",
      "\u001b[1m1685/1685\u001b[0m \u001b[32m━━━━━━━━━━━━━━━━━━━━\u001b[0m\u001b[37m\u001b[0m \u001b[1m16s\u001b[0m 9ms/step - accuracy: 0.9841 - loss: 0.0430 - val_accuracy: 0.8684 - val_loss: 0.5885 - learning_rate: 6.2500e-05\n",
      "Epoch 45/100\n",
      "\u001b[1m1685/1685\u001b[0m \u001b[32m━━━━━━━━━━━━━━━━━━━━\u001b[0m\u001b[37m\u001b[0m \u001b[1m21s\u001b[0m 10ms/step - accuracy: 0.9838 - loss: 0.0447 - val_accuracy: 0.9588 - val_loss: 0.1862 - learning_rate: 6.2500e-05\n",
      "Epoch 46/100\n",
      "\u001b[1m1685/1685\u001b[0m \u001b[32m━━━━━━━━━━━━━━━━━━━━\u001b[0m\u001b[37m\u001b[0m \u001b[1m17s\u001b[0m 10ms/step - accuracy: 0.9833 - loss: 0.0463 - val_accuracy: 0.9596 - val_loss: 0.1843 - learning_rate: 6.2500e-05\n",
      "Epoch 47/100\n",
      "\u001b[1m1685/1685\u001b[0m \u001b[32m━━━━━━━━━━━━━━━━━━━━\u001b[0m\u001b[37m\u001b[0m \u001b[1m20s\u001b[0m 9ms/step - accuracy: 0.9844 - loss: 0.0416 - val_accuracy: 0.9589 - val_loss: 0.1873 - learning_rate: 3.1250e-05\n",
      "Epoch 48/100\n",
      "\u001b[1m1685/1685\u001b[0m \u001b[32m━━━━━━━━━━━━━━━━━━━━\u001b[0m\u001b[37m\u001b[0m \u001b[1m16s\u001b[0m 9ms/step - accuracy: 0.9846 - loss: 0.0442 - val_accuracy: 0.9634 - val_loss: 0.1776 - learning_rate: 3.1250e-05\n",
      "Epoch 49/100\n",
      "\u001b[1m1685/1685\u001b[0m \u001b[32m━━━━━━━━━━━━━━━━━━━━\u001b[0m\u001b[37m\u001b[0m \u001b[1m16s\u001b[0m 9ms/step - accuracy: 0.9852 - loss: 0.0389 - val_accuracy: 0.9508 - val_loss: 0.2028 - learning_rate: 3.1250e-05\n",
      "Epoch 50/100\n",
      "\u001b[1m1685/1685\u001b[0m \u001b[32m━━━━━━━━━━━━━━━━━━━━\u001b[0m\u001b[37m\u001b[0m \u001b[1m17s\u001b[0m 10ms/step - accuracy: 0.9847 - loss: 0.0399 - val_accuracy: 0.8805 - val_loss: 0.5323 - learning_rate: 3.1250e-05\n",
      "Epoch 51/100\n",
      "\u001b[1m1685/1685\u001b[0m \u001b[32m━━━━━━━━━━━━━━━━━━━━\u001b[0m\u001b[37m\u001b[0m \u001b[1m17s\u001b[0m 10ms/step - accuracy: 0.9852 - loss: 0.0421 - val_accuracy: 0.8776 - val_loss: 0.5444 - learning_rate: 3.1250e-05\n",
      "Epoch 52/100\n",
      "\u001b[1m1685/1685\u001b[0m \u001b[32m━━━━━━━━━━━━━━━━━━━━\u001b[0m\u001b[37m\u001b[0m \u001b[1m19s\u001b[0m 9ms/step - accuracy: 0.9858 - loss: 0.0393 - val_accuracy: 0.8678 - val_loss: 0.5996 - learning_rate: 1.5625e-05\n",
      "Epoch 53/100\n",
      "\u001b[1m1685/1685\u001b[0m \u001b[32m━━━━━━━━━━━━━━━━━━━━\u001b[0m\u001b[37m\u001b[0m \u001b[1m22s\u001b[0m 10ms/step - accuracy: 0.9852 - loss: 0.0427 - val_accuracy: 0.9018 - val_loss: 0.4363 - learning_rate: 1.5625e-05\n",
      "Epoch 54/100\n",
      "\u001b[1m1685/1685\u001b[0m \u001b[32m━━━━━━━━━━━━━━━━━━━━\u001b[0m\u001b[37m\u001b[0m \u001b[1m16s\u001b[0m 9ms/step - accuracy: 0.9859 - loss: 0.0442 - val_accuracy: 0.8709 - val_loss: 0.5878 - learning_rate: 1.5625e-05\n",
      "Epoch 55/100\n",
      "\u001b[1m1685/1685\u001b[0m \u001b[32m━━━━━━━━━━━━━━━━━━━━\u001b[0m\u001b[37m\u001b[0m \u001b[1m20s\u001b[0m 9ms/step - accuracy: 0.9854 - loss: 0.0416 - val_accuracy: 0.9656 - val_loss: 0.1763 - learning_rate: 1.5625e-05\n",
      "Epoch 56/100\n",
      "\u001b[1m1685/1685\u001b[0m \u001b[32m━━━━━━━━━━━━━━━━━━━━\u001b[0m\u001b[37m\u001b[0m \u001b[1m16s\u001b[0m 9ms/step - accuracy: 0.9848 - loss: 0.0385 - val_accuracy: 0.9508 - val_loss: 0.2029 - learning_rate: 1.5625e-05\n",
      "Epoch 57/100\n",
      "\u001b[1m1685/1685\u001b[0m \u001b[32m━━━━━━━━━━━━━━━━━━━━\u001b[0m\u001b[37m\u001b[0m \u001b[1m16s\u001b[0m 9ms/step - accuracy: 0.9842 - loss: 0.0438 - val_accuracy: 0.9409 - val_loss: 0.2445 - learning_rate: 1.5625e-05\n",
      "Epoch 58/100\n",
      "\u001b[1m1685/1685\u001b[0m \u001b[32m━━━━━━━━━━━━━━━━━━━━\u001b[0m\u001b[37m\u001b[0m \u001b[1m17s\u001b[0m 10ms/step - accuracy: 0.9849 - loss: 0.0444 - val_accuracy: 0.9647 - val_loss: 0.1762 - learning_rate: 1.5625e-05\n",
      "Epoch 59/100\n",
      "\u001b[1m1685/1685\u001b[0m \u001b[32m━━━━━━━━━━━━━━━━━━━━\u001b[0m\u001b[37m\u001b[0m \u001b[1m19s\u001b[0m 9ms/step - accuracy: 0.9841 - loss: 0.0451 - val_accuracy: 0.8725 - val_loss: 0.5723 - learning_rate: 1.5625e-05\n",
      "Epoch 60/100\n",
      "\u001b[1m1685/1685\u001b[0m \u001b[32m━━━━━━━━━━━━━━━━━━━━\u001b[0m\u001b[37m\u001b[0m \u001b[1m16s\u001b[0m 9ms/step - accuracy: 0.9853 - loss: 0.0395 - val_accuracy: 0.9662 - val_loss: 0.1712 - learning_rate: 1.5625e-05\n",
      "Epoch 61/100\n",
      "\u001b[1m1685/1685\u001b[0m \u001b[32m━━━━━━━━━━━━━━━━━━━━\u001b[0m\u001b[37m\u001b[0m \u001b[1m16s\u001b[0m 9ms/step - accuracy: 0.9852 - loss: 0.0408 - val_accuracy: 0.9620 - val_loss: 0.1787 - learning_rate: 1.5625e-05\n",
      "Epoch 62/100\n",
      "\u001b[1m1685/1685\u001b[0m \u001b[32m━━━━━━━━━━━━━━━━━━━━\u001b[0m\u001b[37m\u001b[0m \u001b[1m22s\u001b[0m 10ms/step - accuracy: 0.9853 - loss: 0.0436 - val_accuracy: 0.9157 - val_loss: 0.3664 - learning_rate: 1.5625e-05\n",
      "Epoch 63/100\n",
      "\u001b[1m1685/1685\u001b[0m \u001b[32m━━━━━━━━━━━━━━━━━━━━\u001b[0m\u001b[37m\u001b[0m \u001b[1m19s\u001b[0m 9ms/step - accuracy: 0.9855 - loss: 0.0420 - val_accuracy: 0.9522 - val_loss: 0.1968 - learning_rate: 1.5625e-05\n",
      "Epoch 64/100\n",
      "\u001b[1m1685/1685\u001b[0m \u001b[32m━━━━━━━━━━━━━━━━━━━━\u001b[0m\u001b[37m\u001b[0m \u001b[1m21s\u001b[0m 10ms/step - accuracy: 0.9856 - loss: 0.0408 - val_accuracy: 0.9673 - val_loss: 0.1703 - learning_rate: 1.5625e-05\n",
      "Epoch 65/100\n",
      "\u001b[1m1685/1685\u001b[0m \u001b[32m━━━━━━━━━━━━━━━━━━━━\u001b[0m\u001b[37m\u001b[0m \u001b[1m20s\u001b[0m 9ms/step - accuracy: 0.9860 - loss: 0.0422 - val_accuracy: 0.9397 - val_loss: 0.2416 - learning_rate: 1.5625e-05\n",
      "Epoch 66/100\n",
      "\u001b[1m1685/1685\u001b[0m \u001b[32m━━━━━━━━━━━━━━━━━━━━\u001b[0m\u001b[37m\u001b[0m \u001b[1m16s\u001b[0m 9ms/step - accuracy: 0.9856 - loss: 0.0394 - val_accuracy: 0.9468 - val_loss: 0.2210 - learning_rate: 1.5625e-05\n",
      "Epoch 67/100\n",
      "\u001b[1m1685/1685\u001b[0m \u001b[32m━━━━━━━━━━━━━━━━━━━━\u001b[0m\u001b[37m\u001b[0m \u001b[1m21s\u001b[0m 9ms/step - accuracy: 0.9852 - loss: 0.0425 - val_accuracy: 0.8806 - val_loss: 0.5216 - learning_rate: 1.5625e-05\n",
      "Epoch 68/100\n",
      "\u001b[1m1685/1685\u001b[0m \u001b[32m━━━━━━━━━━━━━━━━━━━━\u001b[0m\u001b[37m\u001b[0m \u001b[1m15s\u001b[0m 9ms/step - accuracy: 0.9848 - loss: 0.0452 - val_accuracy: 0.9276 - val_loss: 0.3057 - learning_rate: 1.5625e-05\n",
      "Epoch 69/100\n",
      "\u001b[1m1685/1685\u001b[0m \u001b[32m━━━━━━━━━━━━━━━━━━━━\u001b[0m\u001b[37m\u001b[0m \u001b[1m15s\u001b[0m 9ms/step - accuracy: 0.9854 - loss: 0.0412 - val_accuracy: 0.9661 - val_loss: 0.1722 - learning_rate: 1.5625e-05\n",
      "Epoch 70/100\n",
      "\u001b[1m1685/1685\u001b[0m \u001b[32m━━━━━━━━━━━━━━━━━━━━\u001b[0m\u001b[37m\u001b[0m \u001b[1m15s\u001b[0m 9ms/step - accuracy: 0.9851 - loss: 0.0463 - val_accuracy: 0.9355 - val_loss: 0.2669 - learning_rate: 7.8125e-06\n",
      "Epoch 71/100\n",
      "\u001b[1m1685/1685\u001b[0m \u001b[32m━━━━━━━━━━━━━━━━━━━━\u001b[0m\u001b[37m\u001b[0m \u001b[1m21s\u001b[0m 9ms/step - accuracy: 0.9857 - loss: 0.0428 - val_accuracy: 0.9380 - val_loss: 0.2557 - learning_rate: 7.8125e-06\n",
      "Epoch 72/100\n",
      "\u001b[1m1685/1685\u001b[0m \u001b[32m━━━━━━━━━━━━━━━━━━━━\u001b[0m\u001b[37m\u001b[0m \u001b[1m20s\u001b[0m 9ms/step - accuracy: 0.9850 - loss: 0.0417 - val_accuracy: 0.8927 - val_loss: 0.4612 - learning_rate: 7.8125e-06\n",
      "Epoch 73/100\n",
      "\u001b[1m1685/1685\u001b[0m \u001b[32m━━━━━━━━━━━━━━━━━━━━\u001b[0m\u001b[37m\u001b[0m \u001b[1m16s\u001b[0m 9ms/step - accuracy: 0.9854 - loss: 0.0391 - val_accuracy: 0.8784 - val_loss: 0.5331 - learning_rate: 7.8125e-06\n",
      "Epoch 74/100\n",
      "\u001b[1m1685/1685\u001b[0m \u001b[32m━━━━━━━━━━━━━━━━━━━━\u001b[0m\u001b[37m\u001b[0m \u001b[1m20s\u001b[0m 9ms/step - accuracy: 0.9859 - loss: 0.0413 - val_accuracy: 0.8759 - val_loss: 0.5487 - learning_rate: 7.8125e-06\n"
     ]
    }
   ],
   "source": [
    "# Train Model\n",
    "history = model.fit(\n",
    "    X_train_resampled, y_train_resampled,\n",
    "    validation_data=(X_val, y_val),\n",
    "    epochs=100,\n",
    "    batch_size=64,\n",
    "    class_weight=class_weights_dict,\n",
    "    callbacks=[early_stopping, reduce_lr]\n",
    ")"
   ]
  },
  {
   "cell_type": "code",
   "execution_count": 38,
   "metadata": {
    "colab": {
     "base_uri": "https://localhost:8080/"
    },
    "id": "7bAG3k7hrpEB",
    "outputId": "78eaba78-0a81-4877-9190-08b55ae7072d"
   },
   "outputs": [
    {
     "name": "stdout",
     "output_type": "stream",
     "text": [
      "\u001b[1m430/430\u001b[0m \u001b[32m━━━━━━━━━━━━━━━━━━━━\u001b[0m\u001b[37m\u001b[0m \u001b[1m1s\u001b[0m 3ms/step\n",
      "Deep Learning Model F1 Score: 0.5114254624591947\n"
     ]
    }
   ],
   "source": [
    "# Evaluate Model\n",
    "val_predictions = (model.predict(X_val) > 0.5).astype(int)\n",
    "f1 = f1_score(y_val, val_predictions)\n",
    "print(f\"Deep Learning Model F1 Score: {f1}\")"
   ]
  },
  {
   "cell_type": "code",
   "execution_count": 39,
   "metadata": {
    "colab": {
     "base_uri": "https://localhost:8080/"
    },
    "id": "rwg6UZfUsBKl",
    "outputId": "b580fe77-2599-4eb4-c21f-d410721b2b74"
   },
   "outputs": [
    {
     "name": "stderr",
     "output_type": "stream",
     "text": [
      "/usr/local/lib/python3.11/dist-packages/sklearn/preprocessing/_encoders.py:246: UserWarning: Found unknown categories in columns [0, 1] during transform. These unknown categories will be encoded as all zeros\n",
      "  warnings.warn(\n"
     ]
    },
    {
     "name": "stdout",
     "output_type": "stream",
     "text": [
      "\u001b[1m582/582\u001b[0m \u001b[32m━━━━━━━━━━━━━━━━━━━━\u001b[0m\u001b[37m\u001b[0m \u001b[1m2s\u001b[0m 3ms/step\n"
     ]
    }
   ],
   "source": [
    "# Process Test Data\n",
    "X_test = preprocessor.transform(test_data.drop(columns=['ID'], errors='ignore'))\n",
    "test_predictions = (model.predict(X_test) > 0.5).astype(int)"
   ]
  },
  {
   "cell_type": "code",
   "execution_count": 40,
   "metadata": {
    "id": "6WHIcM_NsBRS"
   },
   "outputs": [],
   "source": [
    "# Generate Submission File\n",
    "submission = pd.DataFrame({'ID': test_data['ID'], 'target': test_predictions.flatten()})\n",
    "submission.to_csv('submission_deep_learning.csv', index=False)"
   ]
  },
  {
   "cell_type": "code",
   "execution_count": null,
   "metadata": {
    "id": "7cG-RasjsBUu"
   },
   "outputs": [],
   "source": []
  },
  {
   "cell_type": "code",
   "execution_count": null,
   "metadata": {
    "id": "CFuAnnE8sBYY"
   },
   "outputs": [],
   "source": []
  },
  {
   "cell_type": "code",
   "execution_count": null,
   "metadata": {
    "id": "VlGj3xM2izpE"
   },
   "outputs": [],
   "source": []
  },
  {
   "cell_type": "code",
   "execution_count": null,
   "metadata": {
    "id": "uMJSOOnzizsa"
   },
   "outputs": [],
   "source": []
  },
  {
   "cell_type": "code",
   "execution_count": null,
   "metadata": {
    "id": "8LEMp6HAizvT"
   },
   "outputs": [],
   "source": []
  }
 ],
 "metadata": {
  "colab": {
   "provenance": []
  },
  "kernelspec": {
   "display_name": "Python 3 (ipykernel)",
   "language": "python",
   "name": "python3"
  },
  "language_info": {
   "codemirror_mode": {
    "name": "ipython",
    "version": 3
   },
   "file_extension": ".py",
   "mimetype": "text/x-python",
   "name": "python",
   "nbconvert_exporter": "python",
   "pygments_lexer": "ipython3",
   "version": "3.11.5"
  },
  "widgets": {
   "application/vnd.jupyter.widget-state+json": {
    "state": {},
    "version_major": 2,
    "version_minor": 0
   }
  }
 },
 "nbformat": 4,
 "nbformat_minor": 4
}
