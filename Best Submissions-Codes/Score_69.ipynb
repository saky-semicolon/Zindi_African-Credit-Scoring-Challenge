{
 "cells": [
  {
   "cell_type": "code",
   "execution_count": 2,
   "metadata": {
    "colab": {
     "base_uri": "https://localhost:8080/"
    },
    "id": "DrTD2kOox3Fq",
    "outputId": "fa82aafe-04ed-4d0b-f1d6-23e96d6859ba"
   },
   "outputs": [
    {
     "name": "stdout",
     "output_type": "stream",
     "text": [
      "Requirement already satisfied: scikit-learn in /usr/local/lib/python3.11/dist-packages (1.6.0)\n",
      "Collecting scikit-learn\n",
      "  Downloading scikit_learn-1.6.1-cp311-cp311-manylinux_2_17_x86_64.manylinux2014_x86_64.whl.metadata (18 kB)\n",
      "Requirement already satisfied: numpy>=1.19.5 in /usr/local/lib/python3.11/dist-packages (from scikit-learn) (1.26.4)\n",
      "Requirement already satisfied: scipy>=1.6.0 in /usr/local/lib/python3.11/dist-packages (from scikit-learn) (1.13.1)\n",
      "Requirement already satisfied: joblib>=1.2.0 in /usr/local/lib/python3.11/dist-packages (from scikit-learn) (1.4.2)\n",
      "Requirement already satisfied: threadpoolctl>=3.1.0 in /usr/local/lib/python3.11/dist-packages (from scikit-learn) (3.5.0)\n",
      "Downloading scikit_learn-1.6.1-cp311-cp311-manylinux_2_17_x86_64.manylinux2014_x86_64.whl (13.5 MB)\n",
      "\u001b[2K   \u001b[90m━━━━━━━━━━━━━━━━━━━━━━━━━━━━━━━━━━━━━━━━\u001b[0m \u001b[32m13.5/13.5 MB\u001b[0m \u001b[31m87.6 MB/s\u001b[0m eta \u001b[36m0:00:00\u001b[0m\n",
      "\u001b[?25hInstalling collected packages: scikit-learn\n",
      "  Attempting uninstall: scikit-learn\n",
      "    Found existing installation: scikit-learn 1.6.0\n",
      "    Uninstalling scikit-learn-1.6.0:\n",
      "      Successfully uninstalled scikit-learn-1.6.0\n",
      "Successfully installed scikit-learn-1.6.1\n",
      "Requirement already satisfied: torch in /usr/local/lib/python3.11/dist-packages (2.5.1+cu121)\n",
      "Requirement already satisfied: filelock in /usr/local/lib/python3.11/dist-packages (from torch) (3.16.1)\n",
      "Requirement already satisfied: typing-extensions>=4.8.0 in /usr/local/lib/python3.11/dist-packages (from torch) (4.12.2)\n",
      "Requirement already satisfied: networkx in /usr/local/lib/python3.11/dist-packages (from torch) (3.4.2)\n",
      "Requirement already satisfied: jinja2 in /usr/local/lib/python3.11/dist-packages (from torch) (3.1.5)\n",
      "Requirement already satisfied: fsspec in /usr/local/lib/python3.11/dist-packages (from torch) (2024.10.0)\n",
      "Requirement already satisfied: nvidia-cuda-nvrtc-cu12==12.1.105 in /usr/local/lib/python3.11/dist-packages (from torch) (12.1.105)\n",
      "Requirement already satisfied: nvidia-cuda-runtime-cu12==12.1.105 in /usr/local/lib/python3.11/dist-packages (from torch) (12.1.105)\n",
      "Requirement already satisfied: nvidia-cuda-cupti-cu12==12.1.105 in /usr/local/lib/python3.11/dist-packages (from torch) (12.1.105)\n",
      "Requirement already satisfied: nvidia-cudnn-cu12==9.1.0.70 in /usr/local/lib/python3.11/dist-packages (from torch) (9.1.0.70)\n",
      "Requirement already satisfied: nvidia-cublas-cu12==12.1.3.1 in /usr/local/lib/python3.11/dist-packages (from torch) (12.1.3.1)\n",
      "Requirement already satisfied: nvidia-cufft-cu12==11.0.2.54 in /usr/local/lib/python3.11/dist-packages (from torch) (11.0.2.54)\n",
      "Requirement already satisfied: nvidia-curand-cu12==10.3.2.106 in /usr/local/lib/python3.11/dist-packages (from torch) (10.3.2.106)\n",
      "Requirement already satisfied: nvidia-cusolver-cu12==11.4.5.107 in /usr/local/lib/python3.11/dist-packages (from torch) (11.4.5.107)\n",
      "Requirement already satisfied: nvidia-cusparse-cu12==12.1.0.106 in /usr/local/lib/python3.11/dist-packages (from torch) (12.1.0.106)\n",
      "Requirement already satisfied: nvidia-nccl-cu12==2.21.5 in /usr/local/lib/python3.11/dist-packages (from torch) (2.21.5)\n",
      "Requirement already satisfied: nvidia-nvtx-cu12==12.1.105 in /usr/local/lib/python3.11/dist-packages (from torch) (12.1.105)\n",
      "Requirement already satisfied: triton==3.1.0 in /usr/local/lib/python3.11/dist-packages (from torch) (3.1.0)\n",
      "Requirement already satisfied: sympy==1.13.1 in /usr/local/lib/python3.11/dist-packages (from torch) (1.13.1)\n",
      "Requirement already satisfied: nvidia-nvjitlink-cu12 in /usr/local/lib/python3.11/dist-packages (from nvidia-cusolver-cu12==11.4.5.107->torch) (12.6.85)\n",
      "Requirement already satisfied: mpmath<1.4,>=1.1.0 in /usr/local/lib/python3.11/dist-packages (from sympy==1.13.1->torch) (1.3.0)\n",
      "Requirement already satisfied: MarkupSafe>=2.0 in /usr/local/lib/python3.11/dist-packages (from jinja2->torch) (3.0.2)\n",
      "Collecting imblearn\n",
      "  Downloading imblearn-0.0-py2.py3-none-any.whl.metadata (355 bytes)\n",
      "Requirement already satisfied: imbalanced-learn in /usr/local/lib/python3.11/dist-packages (from imblearn) (0.13.0)\n",
      "Requirement already satisfied: numpy<3,>=1.24.3 in /usr/local/lib/python3.11/dist-packages (from imbalanced-learn->imblearn) (1.26.4)\n",
      "Requirement already satisfied: scipy<2,>=1.10.1 in /usr/local/lib/python3.11/dist-packages (from imbalanced-learn->imblearn) (1.13.1)\n",
      "Requirement already satisfied: scikit-learn<2,>=1.3.2 in /usr/local/lib/python3.11/dist-packages (from imbalanced-learn->imblearn) (1.6.1)\n",
      "Requirement already satisfied: sklearn-compat<1,>=0.1 in /usr/local/lib/python3.11/dist-packages (from imbalanced-learn->imblearn) (0.1.3)\n",
      "Requirement already satisfied: joblib<2,>=1.1.1 in /usr/local/lib/python3.11/dist-packages (from imbalanced-learn->imblearn) (1.4.2)\n",
      "Requirement already satisfied: threadpoolctl<4,>=2.0.0 in /usr/local/lib/python3.11/dist-packages (from imbalanced-learn->imblearn) (3.5.0)\n",
      "Downloading imblearn-0.0-py2.py3-none-any.whl (1.9 kB)\n",
      "Installing collected packages: imblearn\n",
      "Successfully installed imblearn-0.0\n",
      "Collecting catboost\n",
      "  Downloading catboost-1.2.7-cp311-cp311-manylinux2014_x86_64.whl.metadata (1.2 kB)\n",
      "Requirement already satisfied: graphviz in /usr/local/lib/python3.11/dist-packages (from catboost) (0.20.3)\n",
      "Requirement already satisfied: matplotlib in /usr/local/lib/python3.11/dist-packages (from catboost) (3.10.0)\n",
      "Requirement already satisfied: numpy<2.0,>=1.16.0 in /usr/local/lib/python3.11/dist-packages (from catboost) (1.26.4)\n",
      "Requirement already satisfied: pandas>=0.24 in /usr/local/lib/python3.11/dist-packages (from catboost) (2.2.2)\n",
      "Requirement already satisfied: scipy in /usr/local/lib/python3.11/dist-packages (from catboost) (1.13.1)\n",
      "Requirement already satisfied: plotly in /usr/local/lib/python3.11/dist-packages (from catboost) (5.24.1)\n",
      "Requirement already satisfied: six in /usr/local/lib/python3.11/dist-packages (from catboost) (1.17.0)\n",
      "Requirement already satisfied: python-dateutil>=2.8.2 in /usr/local/lib/python3.11/dist-packages (from pandas>=0.24->catboost) (2.8.2)\n",
      "Requirement already satisfied: pytz>=2020.1 in /usr/local/lib/python3.11/dist-packages (from pandas>=0.24->catboost) (2024.2)\n",
      "Requirement already satisfied: tzdata>=2022.7 in /usr/local/lib/python3.11/dist-packages (from pandas>=0.24->catboost) (2024.2)\n",
      "Requirement already satisfied: contourpy>=1.0.1 in /usr/local/lib/python3.11/dist-packages (from matplotlib->catboost) (1.3.1)\n",
      "Requirement already satisfied: cycler>=0.10 in /usr/local/lib/python3.11/dist-packages (from matplotlib->catboost) (0.12.1)\n",
      "Requirement already satisfied: fonttools>=4.22.0 in /usr/local/lib/python3.11/dist-packages (from matplotlib->catboost) (4.55.3)\n",
      "Requirement already satisfied: kiwisolver>=1.3.1 in /usr/local/lib/python3.11/dist-packages (from matplotlib->catboost) (1.4.8)\n",
      "Requirement already satisfied: packaging>=20.0 in /usr/local/lib/python3.11/dist-packages (from matplotlib->catboost) (24.2)\n",
      "Requirement already satisfied: pillow>=8 in /usr/local/lib/python3.11/dist-packages (from matplotlib->catboost) (11.1.0)\n",
      "Requirement already satisfied: pyparsing>=2.3.1 in /usr/local/lib/python3.11/dist-packages (from matplotlib->catboost) (3.2.1)\n",
      "Requirement already satisfied: tenacity>=6.2.0 in /usr/local/lib/python3.11/dist-packages (from plotly->catboost) (9.0.0)\n",
      "Downloading catboost-1.2.7-cp311-cp311-manylinux2014_x86_64.whl (98.7 MB)\n",
      "\u001b[2K   \u001b[90m━━━━━━━━━━━━━━━━━━━━━━━━━━━━━━━━━━━━━━━━\u001b[0m \u001b[32m98.7/98.7 MB\u001b[0m \u001b[31m7.4 MB/s\u001b[0m eta \u001b[36m0:00:00\u001b[0m\n",
      "\u001b[?25hInstalling collected packages: catboost\n",
      "Successfully installed catboost-1.2.7\n",
      "Requirement already satisfied: xgboost in /usr/local/lib/python3.11/dist-packages (2.1.3)\n",
      "Requirement already satisfied: numpy in /usr/local/lib/python3.11/dist-packages (from xgboost) (1.26.4)\n",
      "Requirement already satisfied: nvidia-nccl-cu12 in /usr/local/lib/python3.11/dist-packages (from xgboost) (2.21.5)\n",
      "Requirement already satisfied: scipy in /usr/local/lib/python3.11/dist-packages (from xgboost) (1.13.1)\n"
     ]
    }
   ],
   "source": [
    "!pip install --upgrade scikit-learn\n",
    "!pip install torch\n",
    "!pip install imblearn\n",
    "!pip install catboost\n",
    "!pip install xgboost"
   ]
  },
  {
   "cell_type": "code",
   "execution_count": 3,
   "metadata": {
    "id": "jxgbOvp5yRUs"
   },
   "outputs": [],
   "source": [
    "import pandas as pd\n",
    "import numpy as np\n",
    "import tensorflow as tf\n",
    "from tensorflow.keras.models import Sequential\n",
    "from tensorflow.keras.layers import Dense, Dropout, BatchNormalization, LeakyReLU\n",
    "from tensorflow.keras.callbacks import EarlyStopping, ReduceLROnPlateau, ModelCheckpoint\n",
    "from tensorflow.keras.regularizers import l2\n",
    "from sklearn.model_selection import train_test_split, StratifiedKFold\n",
    "from sklearn.preprocessing import StandardScaler, OneHotEncoder\n",
    "from sklearn.compose import ColumnTransformer\n",
    "from sklearn.metrics import f1_score, roc_auc_score\n",
    "from imblearn.over_sampling import SMOTE\n",
    "from sklearn.utils.class_weight import compute_class_weight"
   ]
  },
  {
   "cell_type": "code",
   "execution_count": 4,
   "metadata": {
    "id": "jk5DntugyRX1"
   },
   "outputs": [],
   "source": [
    "# Load datasets\n",
    "train_data = pd.read_csv(\"/content/Train.csv\")\n",
    "test_data = pd.read_csv(\"/content/Test.csv\")\n",
    "economic_data = pd.read_csv(\"/content/economic_indicators.csv\")\n"
   ]
  },
  {
   "cell_type": "code",
   "execution_count": 5,
   "metadata": {
    "id": "nThhi8alyRau"
   },
   "outputs": [],
   "source": [
    "# Feature Engineering\n",
    "train_data['loan_to_repay_ratio'] = train_data['Total_Amount'] / (train_data['Total_Amount_to_Repay'] + 1)\n",
    "test_data['loan_to_repay_ratio'] = test_data['Total_Amount'] / (test_data['Total_Amount_to_Repay'] + 1)\n",
    "\n",
    "train_data['amount_duration_interaction'] = train_data['Total_Amount'] * train_data['duration']\n",
    "test_data['amount_duration_interaction'] = test_data['Total_Amount'] * test_data['duration']"
   ]
  },
  {
   "cell_type": "code",
   "execution_count": 6,
   "metadata": {
    "id": "-ktyEqPByRdZ"
   },
   "outputs": [],
   "source": [
    "# Merge Economic Indicators\n",
    "if 'country_id' in train_data.columns and 'country_id' in economic_data.columns:\n",
    "    train_data = train_data.merge(economic_data, on='country_id', how='left')\n",
    "    test_data = test_data.merge(economic_data, on='country_id', how='left')"
   ]
  },
  {
   "cell_type": "code",
   "execution_count": 7,
   "metadata": {
    "id": "3-Iwd53ZyRgg"
   },
   "outputs": [],
   "source": [
    "# Handle Missing Values\n",
    "train_data.fillna(train_data.median(numeric_only=True), inplace=True)\n",
    "test_data.fillna(test_data.median(numeric_only=True), inplace=True)\n"
   ]
  },
  {
   "cell_type": "code",
   "execution_count": 8,
   "metadata": {
    "id": "sR28HVzEyRjV"
   },
   "outputs": [],
   "source": [
    "# Prepare Features and Target\n",
    "X = train_data.drop(columns=['ID', 'target'])\n",
    "y = train_data['target']"
   ]
  },
  {
   "cell_type": "code",
   "execution_count": 9,
   "metadata": {
    "id": "MhSmiLmXyRl0"
   },
   "outputs": [],
   "source": [
    "# Identify categorical and numerical columns\n",
    "categorical_cols = [col for col in ['country_id', 'disbursement_date'] if col in train_data.columns]\n",
    "numerical_cols = ['Total_Amount', 'Total_Amount_to_Repay', 'loan_to_repay_ratio', 'amount_duration_interaction']"
   ]
  },
  {
   "cell_type": "code",
   "execution_count": 10,
   "metadata": {
    "id": "H6dD4bxUyRoq"
   },
   "outputs": [],
   "source": [
    "# Preprocessing Pipeline\n",
    "preprocessor = ColumnTransformer([\n",
    "    ('num', StandardScaler(), numerical_cols),\n",
    "    ('cat', OneHotEncoder(drop='first', handle_unknown='ignore'), categorical_cols)\n",
    "])\n",
    "\n",
    "X_processed = preprocessor.fit_transform(X)"
   ]
  },
  {
   "cell_type": "code",
   "execution_count": 11,
   "metadata": {
    "id": "yr5kKFWoyRrm"
   },
   "outputs": [],
   "source": [
    "# Split data\n",
    "X_train, X_val, y_train, y_val = train_test_split(X_processed, y, test_size=0.2, random_state=42, stratify=y)\n"
   ]
  },
  {
   "cell_type": "code",
   "execution_count": 12,
   "metadata": {
    "id": "aF-R9upUyRxV"
   },
   "outputs": [],
   "source": [
    "# Handle Imbalanced Data using SMOTE\n",
    "smote = SMOTE(random_state=42)\n",
    "X_train_resampled, y_train_resampled = smote.fit_resample(X_train, y_train)"
   ]
  },
  {
   "cell_type": "code",
   "execution_count": 13,
   "metadata": {
    "id": "X7I_mjWxyR0L"
   },
   "outputs": [],
   "source": [
    "# Class Weights Calculation\n",
    "class_weights = compute_class_weight('balanced', classes=np.unique(y), y=y)\n",
    "class_weights_dict = dict(enumerate(class_weights))"
   ]
  },
  {
   "cell_type": "code",
   "execution_count": 14,
   "metadata": {
    "colab": {
     "base_uri": "https://localhost:8080/"
    },
    "id": "pKJndSViyR57",
    "outputId": "894c7e10-cce2-4335-bb34-0d5863790b6c"
   },
   "outputs": [
    {
     "name": "stderr",
     "output_type": "stream",
     "text": [
      "/usr/local/lib/python3.11/dist-packages/keras/src/layers/core/dense.py:87: UserWarning: Do not pass an `input_shape`/`input_dim` argument to a layer. When using Sequential models, prefer using an `Input(shape)` object as the first layer in the model instead.\n",
      "  super().__init__(activity_regularizer=activity_regularizer, **kwargs)\n",
      "/usr/local/lib/python3.11/dist-packages/keras/src/layers/activations/leaky_relu.py:41: UserWarning: Argument `alpha` is deprecated. Use `negative_slope` instead.\n",
      "  warnings.warn(\n"
     ]
    }
   ],
   "source": [
    "# Define Deep Learning Model\n",
    "model = Sequential([\n",
    "    Dense(512, kernel_regularizer=l2(0.001), input_shape=(X_train_resampled.shape[1],)),\n",
    "    LeakyReLU(alpha=0.1),\n",
    "    BatchNormalization(),\n",
    "    Dropout(0.4),\n",
    "\n",
    "    Dense(256, kernel_regularizer=l2(0.001)),\n",
    "    LeakyReLU(alpha=0.1),\n",
    "    BatchNormalization(),\n",
    "    Dropout(0.4),\n",
    "\n",
    "    Dense(128, kernel_regularizer=l2(0.001)),\n",
    "    LeakyReLU(alpha=0.1),\n",
    "    BatchNormalization(),\n",
    "    Dropout(0.3),\n",
    "\n",
    "    Dense(64, kernel_regularizer=l2(0.001)),\n",
    "    LeakyReLU(alpha=0.1),\n",
    "    BatchNormalization(),\n",
    "    Dropout(0.3),\n",
    "\n",
    "    Dense(1, activation='sigmoid')  # Binary classification\n",
    "])"
   ]
  },
  {
   "cell_type": "code",
   "execution_count": 16,
   "metadata": {
    "id": "EwNrGDxUyR88"
   },
   "outputs": [],
   "source": [
    "# Compile Model\n",
    "model.compile(optimizer=tf.keras.optimizers.AdamW(learning_rate=0.0005),\n",
    "              loss='binary_crossentropy',\n",
    "              metrics=['accuracy', tf.keras.metrics.AUC(name='auc')])\n",
    "\n"
   ]
  },
  {
   "cell_type": "code",
   "execution_count": 17,
   "metadata": {
    "id": "iTcx2LJY2BV1"
   },
   "outputs": [],
   "source": [
    "# Callbacks for Early Stopping and Learning Rate Reduction\n",
    "early_stopping = EarlyStopping(monitor='val_loss', patience=10, restore_best_weights=True)\n",
    "reduce_lr = ReduceLROnPlateau(monitor='val_loss', factor=0.5, patience=5)\n",
    "model_checkpoint = ModelCheckpoint('best_model.keras', save_best_only=True, monitor='val_loss', mode='min') # Changed the file extension to .keras"
   ]
  },
  {
   "cell_type": "code",
   "execution_count": 18,
   "metadata": {
    "colab": {
     "base_uri": "https://localhost:8080/"
    },
    "id": "US7G17lGySCV",
    "outputId": "e97f1bb7-f57b-440b-ef9b-c198e362e8eb"
   },
   "outputs": [
    {
     "name": "stdout",
     "output_type": "stream",
     "text": [
      "Epoch 1/200\n",
      "\u001b[1m1685/1685\u001b[0m \u001b[32m━━━━━━━━━━━━━━━━━━━━\u001b[0m\u001b[37m\u001b[0m \u001b[1m40s\u001b[0m 20ms/step - accuracy: 0.6597 - auc: 0.7680 - loss: 4.9103 - val_accuracy: 0.0629 - val_auc: 0.8918 - val_loss: 4.4351 - learning_rate: 5.0000e-04\n",
      "Epoch 2/200\n",
      "\u001b[1m1685/1685\u001b[0m \u001b[32m━━━━━━━━━━━━━━━━━━━━\u001b[0m\u001b[37m\u001b[0m \u001b[1m41s\u001b[0m 20ms/step - accuracy: 0.7876 - auc: 0.9449 - loss: 1.2894 - val_accuracy: 0.0234 - val_auc: 0.9267 - val_loss: 3.7826 - learning_rate: 5.0000e-04\n",
      "Epoch 3/200\n",
      "\u001b[1m1685/1685\u001b[0m \u001b[32m━━━━━━━━━━━━━━━━━━━━\u001b[0m\u001b[37m\u001b[0m \u001b[1m40s\u001b[0m 20ms/step - accuracy: 0.8689 - auc: 0.9735 - loss: 0.9733 - val_accuracy: 0.5749 - val_auc: 0.9548 - val_loss: 1.8045 - learning_rate: 5.0000e-04\n",
      "Epoch 4/200\n",
      "\u001b[1m1685/1685\u001b[0m \u001b[32m━━━━━━━━━━━━━━━━━━━━\u001b[0m\u001b[37m\u001b[0m \u001b[1m43s\u001b[0m 21ms/step - accuracy: 0.8980 - auc: 0.9786 - loss: 0.7653 - val_accuracy: 0.7360 - val_auc: 0.9603 - val_loss: 1.2285 - learning_rate: 5.0000e-04\n",
      "Epoch 5/200\n",
      "\u001b[1m1685/1685\u001b[0m \u001b[32m━━━━━━━━━━━━━━━━━━━━\u001b[0m\u001b[37m\u001b[0m \u001b[1m38s\u001b[0m 19ms/step - accuracy: 0.9140 - auc: 0.9800 - loss: 0.6005 - val_accuracy: 0.7353 - val_auc: 0.9660 - val_loss: 1.1557 - learning_rate: 5.0000e-04\n",
      "Epoch 6/200\n",
      "\u001b[1m1685/1685\u001b[0m \u001b[32m━━━━━━━━━━━━━━━━━━━━\u001b[0m\u001b[37m\u001b[0m \u001b[1m33s\u001b[0m 20ms/step - accuracy: 0.9211 - auc: 0.9805 - loss: 0.4847 - val_accuracy: 0.3595 - val_auc: 0.9512 - val_loss: 2.1295 - learning_rate: 5.0000e-04\n",
      "Epoch 7/200\n",
      "\u001b[1m1685/1685\u001b[0m \u001b[32m━━━━━━━━━━━━━━━━━━━━\u001b[0m\u001b[37m\u001b[0m \u001b[1m42s\u001b[0m 21ms/step - accuracy: 0.9197 - auc: 0.9795 - loss: 0.4308 - val_accuracy: 0.8936 - val_auc: 0.9719 - val_loss: 0.6569 - learning_rate: 5.0000e-04\n",
      "Epoch 8/200\n",
      "\u001b[1m1685/1685\u001b[0m \u001b[32m━━━━━━━━━━━━━━━━━━━━\u001b[0m\u001b[37m\u001b[0m \u001b[1m38s\u001b[0m 19ms/step - accuracy: 0.9349 - auc: 0.9813 - loss: 0.3684 - val_accuracy: 0.8393 - val_auc: 0.9674 - val_loss: 0.8109 - learning_rate: 5.0000e-04\n",
      "Epoch 9/200\n",
      "\u001b[1m1685/1685\u001b[0m \u001b[32m━━━━━━━━━━━━━━━━━━━━\u001b[0m\u001b[37m\u001b[0m \u001b[1m33s\u001b[0m 19ms/step - accuracy: 0.9342 - auc: 0.9810 - loss: 0.3486 - val_accuracy: 0.7017 - val_auc: 0.9601 - val_loss: 1.2009 - learning_rate: 5.0000e-04\n",
      "Epoch 10/200\n",
      "\u001b[1m1685/1685\u001b[0m \u001b[32m━━━━━━━━━━━━━━━━━━━━\u001b[0m\u001b[37m\u001b[0m \u001b[1m41s\u001b[0m 20ms/step - accuracy: 0.9371 - auc: 0.9819 - loss: 0.3329 - val_accuracy: 0.0184 - val_auc: 0.7335 - val_loss: 5.2096 - learning_rate: 5.0000e-04\n",
      "Epoch 11/200\n",
      "\u001b[1m1685/1685\u001b[0m \u001b[32m━━━━━━━━━━━━━━━━━━━━\u001b[0m\u001b[37m\u001b[0m \u001b[1m33s\u001b[0m 20ms/step - accuracy: 0.9331 - auc: 0.9819 - loss: 0.3289 - val_accuracy: 0.0184 - val_auc: 0.7883 - val_loss: 5.2384 - learning_rate: 5.0000e-04\n",
      "Epoch 12/200\n",
      "\u001b[1m1685/1685\u001b[0m \u001b[32m━━━━━━━━━━━━━━━━━━━━\u001b[0m\u001b[37m\u001b[0m \u001b[1m43s\u001b[0m 21ms/step - accuracy: 0.9330 - auc: 0.9816 - loss: 0.3331 - val_accuracy: 0.8092 - val_auc: 0.9655 - val_loss: 0.9166 - learning_rate: 5.0000e-04\n",
      "Epoch 13/200\n",
      "\u001b[1m1685/1685\u001b[0m \u001b[32m━━━━━━━━━━━━━━━━━━━━\u001b[0m\u001b[37m\u001b[0m \u001b[1m38s\u001b[0m 19ms/step - accuracy: 0.9423 - auc: 0.9835 - loss: 0.2906 - val_accuracy: 0.8101 - val_auc: 0.9689 - val_loss: 0.8121 - learning_rate: 2.5000e-04\n",
      "Epoch 14/200\n",
      "\u001b[1m1685/1685\u001b[0m \u001b[32m━━━━━━━━━━━━━━━━━━━━\u001b[0m\u001b[37m\u001b[0m \u001b[1m40s\u001b[0m 19ms/step - accuracy: 0.9492 - auc: 0.9846 - loss: 0.2576 - val_accuracy: 0.0705 - val_auc: 0.9488 - val_loss: 2.6517 - learning_rate: 2.5000e-04\n",
      "Epoch 15/200\n",
      "\u001b[1m1685/1685\u001b[0m \u001b[32m━━━━━━━━━━━━━━━━━━━━\u001b[0m\u001b[37m\u001b[0m \u001b[1m41s\u001b[0m 19ms/step - accuracy: 0.9476 - auc: 0.9848 - loss: 0.2622 - val_accuracy: 0.9166 - val_auc: 0.9742 - val_loss: 0.5079 - learning_rate: 2.5000e-04\n",
      "Epoch 16/200\n",
      "\u001b[1m1685/1685\u001b[0m \u001b[32m━━━━━━━━━━━━━━━━━━━━\u001b[0m\u001b[37m\u001b[0m \u001b[1m42s\u001b[0m 19ms/step - accuracy: 0.9565 - auc: 0.9858 - loss: 0.2327 - val_accuracy: 0.8964 - val_auc: 0.9733 - val_loss: 0.5629 - learning_rate: 2.5000e-04\n",
      "Epoch 17/200\n",
      "\u001b[1m1685/1685\u001b[0m \u001b[32m━━━━━━━━━━━━━━━━━━━━\u001b[0m\u001b[37m\u001b[0m \u001b[1m40s\u001b[0m 19ms/step - accuracy: 0.9519 - auc: 0.9855 - loss: 0.2417 - val_accuracy: 0.9048 - val_auc: 0.9763 - val_loss: 0.5430 - learning_rate: 2.5000e-04\n",
      "Epoch 18/200\n",
      "\u001b[1m1685/1685\u001b[0m \u001b[32m━━━━━━━━━━━━━━━━━━━━\u001b[0m\u001b[37m\u001b[0m \u001b[1m41s\u001b[0m 19ms/step - accuracy: 0.9542 - auc: 0.9856 - loss: 0.2365 - val_accuracy: 0.8640 - val_auc: 0.9692 - val_loss: 0.6596 - learning_rate: 2.5000e-04\n",
      "Epoch 19/200\n",
      "\u001b[1m1685/1685\u001b[0m \u001b[32m━━━━━━━━━━━━━━━━━━━━\u001b[0m\u001b[37m\u001b[0m \u001b[1m42s\u001b[0m 20ms/step - accuracy: 0.9536 - auc: 0.9862 - loss: 0.2270 - val_accuracy: 0.8720 - val_auc: 0.9745 - val_loss: 0.6169 - learning_rate: 2.5000e-04\n",
      "Epoch 20/200\n",
      "\u001b[1m1685/1685\u001b[0m \u001b[32m━━━━━━━━━━━━━━━━━━━━\u001b[0m\u001b[37m\u001b[0m \u001b[1m32s\u001b[0m 19ms/step - accuracy: 0.9534 - auc: 0.9865 - loss: 0.2295 - val_accuracy: 0.7954 - val_auc: 0.9728 - val_loss: 0.7954 - learning_rate: 2.5000e-04\n",
      "Epoch 21/200\n",
      "\u001b[1m1685/1685\u001b[0m \u001b[32m━━━━━━━━━━━━━━━━━━━━\u001b[0m\u001b[37m\u001b[0m \u001b[1m41s\u001b[0m 19ms/step - accuracy: 0.9571 - auc: 0.9870 - loss: 0.2138 - val_accuracy: 0.9253 - val_auc: 0.9775 - val_loss: 0.4164 - learning_rate: 1.2500e-04\n",
      "Epoch 22/200\n",
      "\u001b[1m1685/1685\u001b[0m \u001b[32m━━━━━━━━━━━━━━━━━━━━\u001b[0m\u001b[37m\u001b[0m \u001b[1m40s\u001b[0m 19ms/step - accuracy: 0.9636 - auc: 0.9892 - loss: 0.1932 - val_accuracy: 0.7653 - val_auc: 0.9708 - val_loss: 0.8935 - learning_rate: 1.2500e-04\n",
      "Epoch 23/200\n",
      "\u001b[1m1685/1685\u001b[0m \u001b[32m━━━━━━━━━━━━━━━━━━━━\u001b[0m\u001b[37m\u001b[0m \u001b[1m41s\u001b[0m 19ms/step - accuracy: 0.9653 - auc: 0.9895 - loss: 0.1868 - val_accuracy: 0.8886 - val_auc: 0.9743 - val_loss: 0.5061 - learning_rate: 1.2500e-04\n",
      "Epoch 24/200\n",
      "\u001b[1m1685/1685\u001b[0m \u001b[32m━━━━━━━━━━━━━━━━━━━━\u001b[0m\u001b[37m\u001b[0m \u001b[1m41s\u001b[0m 19ms/step - accuracy: 0.9639 - auc: 0.9901 - loss: 0.1819 - val_accuracy: 0.0206 - val_auc: 0.5727 - val_loss: 6.3134 - learning_rate: 1.2500e-04\n",
      "Epoch 25/200\n",
      "\u001b[1m1685/1685\u001b[0m \u001b[32m━━━━━━━━━━━━━━━━━━━━\u001b[0m\u001b[37m\u001b[0m \u001b[1m41s\u001b[0m 19ms/step - accuracy: 0.9670 - auc: 0.9899 - loss: 0.1758 - val_accuracy: 0.9084 - val_auc: 0.9771 - val_loss: 0.4678 - learning_rate: 1.2500e-04\n",
      "Epoch 26/200\n",
      "\u001b[1m1685/1685\u001b[0m \u001b[32m━━━━━━━━━━━━━━━━━━━━\u001b[0m\u001b[37m\u001b[0m \u001b[1m44s\u001b[0m 21ms/step - accuracy: 0.9657 - auc: 0.9899 - loss: 0.1742 - val_accuracy: 0.9217 - val_auc: 0.9785 - val_loss: 0.4049 - learning_rate: 1.2500e-04\n",
      "Epoch 27/200\n",
      "\u001b[1m1685/1685\u001b[0m \u001b[32m━━━━━━━━━━━━━━━━━━━━\u001b[0m\u001b[37m\u001b[0m \u001b[1m38s\u001b[0m 19ms/step - accuracy: 0.9658 - auc: 0.9903 - loss: 0.1771 - val_accuracy: 0.9170 - val_auc: 0.9759 - val_loss: 0.4028 - learning_rate: 1.2500e-04\n",
      "Epoch 28/200\n",
      "\u001b[1m1685/1685\u001b[0m \u001b[32m━━━━━━━━━━━━━━━━━━━━\u001b[0m\u001b[37m\u001b[0m \u001b[1m40s\u001b[0m 19ms/step - accuracy: 0.9671 - auc: 0.9906 - loss: 0.1732 - val_accuracy: 0.8633 - val_auc: 0.9698 - val_loss: 0.6207 - learning_rate: 1.2500e-04\n",
      "Epoch 29/200\n",
      "\u001b[1m1685/1685\u001b[0m \u001b[32m━━━━━━━━━━━━━━━━━━━━\u001b[0m\u001b[37m\u001b[0m \u001b[1m41s\u001b[0m 19ms/step - accuracy: 0.9646 - auc: 0.9907 - loss: 0.1748 - val_accuracy: 0.8992 - val_auc: 0.9774 - val_loss: 0.4986 - learning_rate: 1.2500e-04\n",
      "Epoch 30/200\n",
      "\u001b[1m1685/1685\u001b[0m \u001b[32m━━━━━━━━━━━━━━━━━━━━\u001b[0m\u001b[37m\u001b[0m \u001b[1m33s\u001b[0m 19ms/step - accuracy: 0.9652 - auc: 0.9912 - loss: 0.1715 - val_accuracy: 0.9220 - val_auc: 0.9778 - val_loss: 0.3862 - learning_rate: 1.2500e-04\n",
      "Epoch 31/200\n",
      "\u001b[1m1685/1685\u001b[0m \u001b[32m━━━━━━━━━━━━━━━━━━━━\u001b[0m\u001b[37m\u001b[0m \u001b[1m41s\u001b[0m 19ms/step - accuracy: 0.9689 - auc: 0.9910 - loss: 0.1641 - val_accuracy: 0.9218 - val_auc: 0.9782 - val_loss: 0.3885 - learning_rate: 1.2500e-04\n",
      "Epoch 32/200\n",
      "\u001b[1m1685/1685\u001b[0m \u001b[32m━━━━━━━━━━━━━━━━━━━━\u001b[0m\u001b[37m\u001b[0m \u001b[1m34s\u001b[0m 20ms/step - accuracy: 0.9688 - auc: 0.9914 - loss: 0.1657 - val_accuracy: 0.0346 - val_auc: 0.8220 - val_loss: 4.3555 - learning_rate: 1.2500e-04\n",
      "Epoch 33/200\n",
      "\u001b[1m1685/1685\u001b[0m \u001b[32m━━━━━━━━━━━━━━━━━━━━\u001b[0m\u001b[37m\u001b[0m \u001b[1m43s\u001b[0m 21ms/step - accuracy: 0.9699 - auc: 0.9918 - loss: 0.1562 - val_accuracy: 0.0509 - val_auc: 0.9257 - val_loss: 3.6637 - learning_rate: 1.2500e-04\n",
      "Epoch 34/200\n",
      "\u001b[1m1685/1685\u001b[0m \u001b[32m━━━━━━━━━━━━━━━━━━━━\u001b[0m\u001b[37m\u001b[0m \u001b[1m32s\u001b[0m 19ms/step - accuracy: 0.9693 - auc: 0.9915 - loss: 0.1590 - val_accuracy: 0.8447 - val_auc: 0.9759 - val_loss: 0.7079 - learning_rate: 1.2500e-04\n",
      "Epoch 35/200\n",
      "\u001b[1m1685/1685\u001b[0m \u001b[32m━━━━━━━━━━━━━━━━━━━━\u001b[0m\u001b[37m\u001b[0m \u001b[1m32s\u001b[0m 19ms/step - accuracy: 0.9662 - auc: 0.9912 - loss: 0.1739 - val_accuracy: 0.0185 - val_auc: 0.5055 - val_loss: 6.6864 - learning_rate: 1.2500e-04\n",
      "Epoch 36/200\n",
      "\u001b[1m1685/1685\u001b[0m \u001b[32m━━━━━━━━━━━━━━━━━━━━\u001b[0m\u001b[37m\u001b[0m \u001b[1m42s\u001b[0m 19ms/step - accuracy: 0.9674 - auc: 0.9915 - loss: 0.1642 - val_accuracy: 0.9311 - val_auc: 0.9782 - val_loss: 0.3335 - learning_rate: 6.2500e-05\n",
      "Epoch 37/200\n",
      "\u001b[1m1685/1685\u001b[0m \u001b[32m━━━━━━━━━━━━━━━━━━━━\u001b[0m\u001b[37m\u001b[0m \u001b[1m33s\u001b[0m 19ms/step - accuracy: 0.9735 - auc: 0.9925 - loss: 0.1469 - val_accuracy: 0.0835 - val_auc: 0.9509 - val_loss: 2.8606 - learning_rate: 6.2500e-05\n",
      "Epoch 38/200\n",
      "\u001b[1m1685/1685\u001b[0m \u001b[32m━━━━━━━━━━━━━━━━━━━━\u001b[0m\u001b[37m\u001b[0m \u001b[1m33s\u001b[0m 20ms/step - accuracy: 0.9716 - auc: 0.9930 - loss: 0.1480 - val_accuracy: 0.9213 - val_auc: 0.9798 - val_loss: 0.3937 - learning_rate: 6.2500e-05\n",
      "Epoch 39/200\n",
      "\u001b[1m1685/1685\u001b[0m \u001b[32m━━━━━━━━━━━━━━━━━━━━\u001b[0m\u001b[37m\u001b[0m \u001b[1m40s\u001b[0m 19ms/step - accuracy: 0.9743 - auc: 0.9928 - loss: 0.1407 - val_accuracy: 0.9399 - val_auc: 0.9834 - val_loss: 0.2982 - learning_rate: 6.2500e-05\n",
      "Epoch 40/200\n",
      "\u001b[1m1685/1685\u001b[0m \u001b[32m━━━━━━━━━━━━━━━━━━━━\u001b[0m\u001b[37m\u001b[0m \u001b[1m34s\u001b[0m 20ms/step - accuracy: 0.9735 - auc: 0.9928 - loss: 0.1409 - val_accuracy: 0.9318 - val_auc: 0.9777 - val_loss: 0.3342 - learning_rate: 6.2500e-05\n",
      "Epoch 41/200\n",
      "\u001b[1m1685/1685\u001b[0m \u001b[32m━━━━━━━━━━━━━━━━━━━━\u001b[0m\u001b[37m\u001b[0m \u001b[1m43s\u001b[0m 21ms/step - accuracy: 0.9723 - auc: 0.9928 - loss: 0.1430 - val_accuracy: 0.9343 - val_auc: 0.9787 - val_loss: 0.3441 - learning_rate: 6.2500e-05\n",
      "Epoch 42/200\n",
      "\u001b[1m1685/1685\u001b[0m \u001b[32m━━━━━━━━━━━━━━━━━━━━\u001b[0m\u001b[37m\u001b[0m \u001b[1m38s\u001b[0m 19ms/step - accuracy: 0.9738 - auc: 0.9931 - loss: 0.1358 - val_accuracy: 0.9229 - val_auc: 0.9785 - val_loss: 0.3609 - learning_rate: 6.2500e-05\n",
      "Epoch 43/200\n",
      "\u001b[1m1685/1685\u001b[0m \u001b[32m━━━━━━━━━━━━━━━━━━━━\u001b[0m\u001b[37m\u001b[0m \u001b[1m33s\u001b[0m 19ms/step - accuracy: 0.9733 - auc: 0.9932 - loss: 0.1346 - val_accuracy: 0.9307 - val_auc: 0.9812 - val_loss: 0.3255 - learning_rate: 6.2500e-05\n",
      "Epoch 44/200\n",
      "\u001b[1m1685/1685\u001b[0m \u001b[32m━━━━━━━━━━━━━━━━━━━━\u001b[0m\u001b[37m\u001b[0m \u001b[1m41s\u001b[0m 19ms/step - accuracy: 0.9752 - auc: 0.9926 - loss: 0.1346 - val_accuracy: 0.4992 - val_auc: 0.9643 - val_loss: 1.2226 - learning_rate: 6.2500e-05\n",
      "Epoch 45/200\n",
      "\u001b[1m1685/1685\u001b[0m \u001b[32m━━━━━━━━━━━━━━━━━━━━\u001b[0m\u001b[37m\u001b[0m \u001b[1m41s\u001b[0m 19ms/step - accuracy: 0.9743 - auc: 0.9931 - loss: 0.1349 - val_accuracy: 0.0185 - val_auc: 0.5113 - val_loss: 6.9972 - learning_rate: 3.1250e-05\n",
      "Epoch 46/200\n",
      "\u001b[1m1685/1685\u001b[0m \u001b[32m━━━━━━━━━━━━━━━━━━━━\u001b[0m\u001b[37m\u001b[0m \u001b[1m42s\u001b[0m 20ms/step - accuracy: 0.9769 - auc: 0.9939 - loss: 0.1258 - val_accuracy: 0.9333 - val_auc: 0.9780 - val_loss: 0.3152 - learning_rate: 3.1250e-05\n",
      "Epoch 47/200\n",
      "\u001b[1m1685/1685\u001b[0m \u001b[32m━━━━━━━━━━━━━━━━━━━━\u001b[0m\u001b[37m\u001b[0m \u001b[1m41s\u001b[0m 20ms/step - accuracy: 0.9755 - auc: 0.9938 - loss: 0.1305 - val_accuracy: 0.9428 - val_auc: 0.9774 - val_loss: 0.2881 - learning_rate: 3.1250e-05\n",
      "Epoch 48/200\n",
      "\u001b[1m1685/1685\u001b[0m \u001b[32m━━━━━━━━━━━━━━━━━━━━\u001b[0m\u001b[37m\u001b[0m \u001b[1m43s\u001b[0m 21ms/step - accuracy: 0.9760 - auc: 0.9932 - loss: 0.1284 - val_accuracy: 0.9453 - val_auc: 0.9806 - val_loss: 0.2812 - learning_rate: 3.1250e-05\n",
      "Epoch 49/200\n",
      "\u001b[1m1685/1685\u001b[0m \u001b[32m━━━━━━━━━━━━━━━━━━━━\u001b[0m\u001b[37m\u001b[0m \u001b[1m40s\u001b[0m 20ms/step - accuracy: 0.9786 - auc: 0.9939 - loss: 0.1207 - val_accuracy: 0.9155 - val_auc: 0.9735 - val_loss: 0.4174 - learning_rate: 3.1250e-05\n",
      "Epoch 50/200\n",
      "\u001b[1m1685/1685\u001b[0m \u001b[32m━━━━━━━━━━━━━━━━━━━━\u001b[0m\u001b[37m\u001b[0m \u001b[1m36s\u001b[0m 21ms/step - accuracy: 0.9767 - auc: 0.9930 - loss: 0.1277 - val_accuracy: 0.9394 - val_auc: 0.9813 - val_loss: 0.2992 - learning_rate: 3.1250e-05\n",
      "Epoch 51/200\n",
      "\u001b[1m1685/1685\u001b[0m \u001b[32m━━━━━━━━━━━━━━━━━━━━\u001b[0m\u001b[37m\u001b[0m \u001b[1m38s\u001b[0m 20ms/step - accuracy: 0.9773 - auc: 0.9939 - loss: 0.1242 - val_accuracy: 0.9406 - val_auc: 0.9797 - val_loss: 0.2880 - learning_rate: 3.1250e-05\n",
      "Epoch 52/200\n",
      "\u001b[1m1685/1685\u001b[0m \u001b[32m━━━━━━━━━━━━━━━━━━━━\u001b[0m\u001b[37m\u001b[0m \u001b[1m35s\u001b[0m 21ms/step - accuracy: 0.9759 - auc: 0.9930 - loss: 0.1347 - val_accuracy: 0.0387 - val_auc: 0.6347 - val_loss: 5.2536 - learning_rate: 3.1250e-05\n",
      "Epoch 53/200\n",
      "\u001b[1m1685/1685\u001b[0m \u001b[32m━━━━━━━━━━━━━━━━━━━━\u001b[0m\u001b[37m\u001b[0m \u001b[1m33s\u001b[0m 19ms/step - accuracy: 0.9764 - auc: 0.9938 - loss: 0.1265 - val_accuracy: 0.9449 - val_auc: 0.9779 - val_loss: 0.2749 - learning_rate: 3.1250e-05\n",
      "Epoch 54/200\n",
      "\u001b[1m1685/1685\u001b[0m \u001b[32m━━━━━━━━━━━━━━━━━━━━\u001b[0m\u001b[37m\u001b[0m \u001b[1m33s\u001b[0m 19ms/step - accuracy: 0.9774 - auc: 0.9937 - loss: 0.1220 - val_accuracy: 0.9402 - val_auc: 0.9798 - val_loss: 0.2979 - learning_rate: 3.1250e-05\n",
      "Epoch 55/200\n",
      "\u001b[1m1685/1685\u001b[0m \u001b[32m━━━━━━━━━━━━━━━━━━━━\u001b[0m\u001b[37m\u001b[0m \u001b[1m41s\u001b[0m 19ms/step - accuracy: 0.9766 - auc: 0.9938 - loss: 0.1194 - val_accuracy: 0.9311 - val_auc: 0.9795 - val_loss: 0.3377 - learning_rate: 3.1250e-05\n",
      "Epoch 56/200\n",
      "\u001b[1m1685/1685\u001b[0m \u001b[32m━━━━━━━━━━━━━━━━━━━━\u001b[0m\u001b[37m\u001b[0m \u001b[1m43s\u001b[0m 21ms/step - accuracy: 0.9769 - auc: 0.9943 - loss: 0.1192 - val_accuracy: 0.9533 - val_auc: 0.9794 - val_loss: 0.2532 - learning_rate: 3.1250e-05\n",
      "Epoch 57/200\n",
      "\u001b[1m1685/1685\u001b[0m \u001b[32m━━━━━━━━━━━━━━━━━━━━\u001b[0m\u001b[37m\u001b[0m \u001b[1m39s\u001b[0m 19ms/step - accuracy: 0.9771 - auc: 0.9938 - loss: 0.1208 - val_accuracy: 0.9463 - val_auc: 0.9779 - val_loss: 0.2795 - learning_rate: 3.1250e-05\n",
      "Epoch 58/200\n",
      "\u001b[1m1685/1685\u001b[0m \u001b[32m━━━━━━━━━━━━━━━━━━━━\u001b[0m\u001b[37m\u001b[0m \u001b[1m34s\u001b[0m 20ms/step - accuracy: 0.9762 - auc: 0.9935 - loss: 0.1263 - val_accuracy: 0.4611 - val_auc: 0.9576 - val_loss: 1.3812 - learning_rate: 3.1250e-05\n",
      "Epoch 59/200\n",
      "\u001b[1m1685/1685\u001b[0m \u001b[32m━━━━━━━━━━━━━━━━━━━━\u001b[0m\u001b[37m\u001b[0m \u001b[1m40s\u001b[0m 20ms/step - accuracy: 0.9768 - auc: 0.9936 - loss: 0.1203 - val_accuracy: 0.9507 - val_auc: 0.9789 - val_loss: 0.2565 - learning_rate: 3.1250e-05\n",
      "Epoch 60/200\n",
      "\u001b[1m1685/1685\u001b[0m \u001b[32m━━━━━━━━━━━━━━━━━━━━\u001b[0m\u001b[37m\u001b[0m \u001b[1m41s\u001b[0m 20ms/step - accuracy: 0.9784 - auc: 0.9939 - loss: 0.1165 - val_accuracy: 0.0232 - val_auc: 0.5512 - val_loss: 6.6761 - learning_rate: 3.1250e-05\n",
      "Epoch 61/200\n",
      "\u001b[1m1685/1685\u001b[0m \u001b[32m━━━━━━━━━━━━━━━━━━━━\u001b[0m\u001b[37m\u001b[0m \u001b[1m33s\u001b[0m 20ms/step - accuracy: 0.9758 - auc: 0.9941 - loss: 0.1249 - val_accuracy: 0.9471 - val_auc: 0.9783 - val_loss: 0.2709 - learning_rate: 3.1250e-05\n",
      "Epoch 62/200\n",
      "\u001b[1m1685/1685\u001b[0m \u001b[32m━━━━━━━━━━━━━━━━━━━━\u001b[0m\u001b[37m\u001b[0m \u001b[1m41s\u001b[0m 20ms/step - accuracy: 0.9755 - auc: 0.9938 - loss: 0.1217 - val_accuracy: 0.0185 - val_auc: 0.5148 - val_loss: 7.4281 - learning_rate: 1.5625e-05\n",
      "Epoch 63/200\n",
      "\u001b[1m1685/1685\u001b[0m \u001b[32m━━━━━━━━━━━━━━━━━━━━\u001b[0m\u001b[37m\u001b[0m \u001b[1m42s\u001b[0m 20ms/step - accuracy: 0.9790 - auc: 0.9945 - loss: 0.1142 - val_accuracy: 0.9449 - val_auc: 0.9778 - val_loss: 0.2786 - learning_rate: 1.5625e-05\n",
      "Epoch 64/200\n",
      "\u001b[1m1685/1685\u001b[0m \u001b[32m━━━━━━━━━━━━━━━━━━━━\u001b[0m\u001b[37m\u001b[0m \u001b[1m36s\u001b[0m 21ms/step - accuracy: 0.9786 - auc: 0.9940 - loss: 0.1127 - val_accuracy: 0.9548 - val_auc: 0.9786 - val_loss: 0.2522 - learning_rate: 1.5625e-05\n",
      "Epoch 65/200\n",
      "\u001b[1m1685/1685\u001b[0m \u001b[32m━━━━━━━━━━━━━━━━━━━━\u001b[0m\u001b[37m\u001b[0m \u001b[1m33s\u001b[0m 20ms/step - accuracy: 0.9790 - auc: 0.9939 - loss: 0.1138 - val_accuracy: 0.9455 - val_auc: 0.9774 - val_loss: 0.2708 - learning_rate: 1.5625e-05\n",
      "Epoch 66/200\n",
      "\u001b[1m1685/1685\u001b[0m \u001b[32m━━━━━━━━━━━━━━━━━━━━\u001b[0m\u001b[37m\u001b[0m \u001b[1m33s\u001b[0m 19ms/step - accuracy: 0.9776 - auc: 0.9937 - loss: 0.1130 - val_accuracy: 0.9417 - val_auc: 0.9784 - val_loss: 0.2911 - learning_rate: 1.5625e-05\n",
      "Epoch 67/200\n",
      "\u001b[1m1685/1685\u001b[0m \u001b[32m━━━━━━━━━━━━━━━━━━━━\u001b[0m\u001b[37m\u001b[0m \u001b[1m35s\u001b[0m 20ms/step - accuracy: 0.9809 - auc: 0.9946 - loss: 0.1111 - val_accuracy: 0.0712 - val_auc: 0.8807 - val_loss: 3.5069 - learning_rate: 1.5625e-05\n",
      "Epoch 68/200\n",
      "\u001b[1m1685/1685\u001b[0m \u001b[32m━━━━━━━━━━━━━━━━━━━━\u001b[0m\u001b[37m\u001b[0m \u001b[1m40s\u001b[0m 20ms/step - accuracy: 0.9767 - auc: 0.9937 - loss: 0.1168 - val_accuracy: 0.9558 - val_auc: 0.9783 - val_loss: 0.2440 - learning_rate: 1.5625e-05\n",
      "Epoch 69/200\n",
      "\u001b[1m1685/1685\u001b[0m \u001b[32m━━━━━━━━━━━━━━━━━━━━\u001b[0m\u001b[37m\u001b[0m \u001b[1m35s\u001b[0m 20ms/step - accuracy: 0.9786 - auc: 0.9939 - loss: 0.1165 - val_accuracy: 0.0186 - val_auc: 0.5187 - val_loss: 7.1614 - learning_rate: 1.5625e-05\n",
      "Epoch 70/200\n",
      "\u001b[1m1685/1685\u001b[0m \u001b[32m━━━━━━━━━━━━━━━━━━━━\u001b[0m\u001b[37m\u001b[0m \u001b[1m41s\u001b[0m 21ms/step - accuracy: 0.9779 - auc: 0.9939 - loss: 0.1180 - val_accuracy: 0.9444 - val_auc: 0.9783 - val_loss: 0.2864 - learning_rate: 1.5625e-05\n",
      "Epoch 71/200\n",
      "\u001b[1m1685/1685\u001b[0m \u001b[32m━━━━━━━━━━━━━━━━━━━━\u001b[0m\u001b[37m\u001b[0m \u001b[1m34s\u001b[0m 20ms/step - accuracy: 0.9792 - auc: 0.9940 - loss: 0.1137 - val_accuracy: 0.9447 - val_auc: 0.9746 - val_loss: 0.2772 - learning_rate: 1.5625e-05\n",
      "Epoch 72/200\n",
      "\u001b[1m1685/1685\u001b[0m \u001b[32m━━━━━━━━━━━━━━━━━━━━\u001b[0m\u001b[37m\u001b[0m \u001b[1m39s\u001b[0m 19ms/step - accuracy: 0.9785 - auc: 0.9941 - loss: 0.1107 - val_accuracy: 0.9487 - val_auc: 0.9783 - val_loss: 0.2605 - learning_rate: 1.5625e-05\n",
      "Epoch 73/200\n",
      "\u001b[1m1685/1685\u001b[0m \u001b[32m━━━━━━━━━━━━━━━━━━━━\u001b[0m\u001b[37m\u001b[0m \u001b[1m33s\u001b[0m 20ms/step - accuracy: 0.9784 - auc: 0.9944 - loss: 0.1153 - val_accuracy: 0.9356 - val_auc: 0.9751 - val_loss: 0.3034 - learning_rate: 1.5625e-05\n",
      "Epoch 74/200\n",
      "\u001b[1m1685/1685\u001b[0m \u001b[32m━━━━━━━━━━━━━━━━━━━━\u001b[0m\u001b[37m\u001b[0m \u001b[1m41s\u001b[0m 19ms/step - accuracy: 0.9792 - auc: 0.9945 - loss: 0.1088 - val_accuracy: 0.8962 - val_auc: 0.9703 - val_loss: 0.4772 - learning_rate: 7.8125e-06\n",
      "Epoch 75/200\n",
      "\u001b[1m1685/1685\u001b[0m \u001b[32m━━━━━━━━━━━━━━━━━━━━\u001b[0m\u001b[37m\u001b[0m \u001b[1m33s\u001b[0m 20ms/step - accuracy: 0.9790 - auc: 0.9945 - loss: 0.1119 - val_accuracy: 0.9459 - val_auc: 0.9775 - val_loss: 0.2698 - learning_rate: 7.8125e-06\n",
      "Epoch 76/200\n",
      "\u001b[1m1685/1685\u001b[0m \u001b[32m━━━━━━━━━━━━━━━━━━━━\u001b[0m\u001b[37m\u001b[0m \u001b[1m41s\u001b[0m 20ms/step - accuracy: 0.9794 - auc: 0.9944 - loss: 0.1129 - val_accuracy: 0.9334 - val_auc: 0.9769 - val_loss: 0.3153 - learning_rate: 7.8125e-06\n",
      "Epoch 77/200\n",
      "\u001b[1m1685/1685\u001b[0m \u001b[32m━━━━━━━━━━━━━━━━━━━━\u001b[0m\u001b[37m\u001b[0m \u001b[1m41s\u001b[0m 19ms/step - accuracy: 0.9793 - auc: 0.9946 - loss: 0.1093 - val_accuracy: 0.9371 - val_auc: 0.9762 - val_loss: 0.3032 - learning_rate: 7.8125e-06\n",
      "Epoch 78/200\n",
      "\u001b[1m1685/1685\u001b[0m \u001b[32m━━━━━━━━━━━━━━━━━━━━\u001b[0m\u001b[37m\u001b[0m \u001b[1m43s\u001b[0m 21ms/step - accuracy: 0.9796 - auc: 0.9942 - loss: 0.1093 - val_accuracy: 0.9527 - val_auc: 0.9771 - val_loss: 0.2447 - learning_rate: 7.8125e-06\n"
     ]
    }
   ],
   "source": [
    "# Train Model\n",
    "history = model.fit(\n",
    "    X_train_resampled, y_train_resampled,\n",
    "    validation_data=(X_val, y_val),\n",
    "    epochs=200,\n",
    "    batch_size=64,\n",
    "    class_weight=class_weights_dict,\n",
    "    callbacks=[early_stopping, reduce_lr, model_checkpoint]\n",
    ")\n"
   ]
  },
  {
   "cell_type": "code",
   "execution_count": 20,
   "metadata": {
    "id": "wjH7LsVkDR20"
   },
   "outputs": [],
   "source": [
    "model_checkpoint = ModelCheckpoint('best_model.keras', save_best_only=True, monitor='val_loss', mode='min') # Changed the file extension to .keras"
   ]
  },
  {
   "cell_type": "code",
   "execution_count": 21,
   "metadata": {
    "id": "sUa4HUdSDTun"
   },
   "outputs": [],
   "source": [
    "# Load the best model\n",
    "model.load_weights('best_model.keras') # Changed the file name to best_model.keras"
   ]
  },
  {
   "cell_type": "code",
   "execution_count": 22,
   "metadata": {
    "colab": {
     "base_uri": "https://localhost:8080/"
    },
    "id": "g3WGtYcPzE2B",
    "outputId": "9adb9bdb-8aac-442a-eb10-c52f7de41cd0"
   },
   "outputs": [
    {
     "name": "stdout",
     "output_type": "stream",
     "text": [
      "\u001b[1m430/430\u001b[0m \u001b[32m━━━━━━━━━━━━━━━━━━━━\u001b[0m\u001b[37m\u001b[0m \u001b[1m2s\u001b[0m 4ms/step\n",
      "Deep Learning Model F1 Score: 0.4321796071094481\n",
      "Deep Learning Model AUC Score: 0.9844493550814495\n"
     ]
    }
   ],
   "source": [
    "# Evaluate Model\n",
    "val_predictions_proba = model.predict(X_val)\n",
    "val_predictions = (val_predictions_proba > 0.5).astype(int)\n",
    "f1 = f1_score(y_val, val_predictions)\n",
    "auc = roc_auc_score(y_val, val_predictions_proba)\n",
    "print(f\"Deep Learning Model F1 Score: {f1}\")\n",
    "print(f\"Deep Learning Model AUC Score: {auc}\")"
   ]
  },
  {
   "cell_type": "code",
   "execution_count": 23,
   "metadata": {
    "colab": {
     "base_uri": "https://localhost:8080/"
    },
    "id": "2M4Z5rwyzE5N",
    "outputId": "2bf8c55a-8a96-4ba4-9efa-b86010cf4165"
   },
   "outputs": [
    {
     "name": "stderr",
     "output_type": "stream",
     "text": [
      "/usr/local/lib/python3.11/dist-packages/sklearn/preprocessing/_encoders.py:246: UserWarning: Found unknown categories in columns [0, 1] during transform. These unknown categories will be encoded as all zeros\n",
      "  warnings.warn(\n"
     ]
    },
    {
     "name": "stdout",
     "output_type": "stream",
     "text": [
      "\u001b[1m582/582\u001b[0m \u001b[32m━━━━━━━━━━━━━━━━━━━━\u001b[0m\u001b[37m\u001b[0m \u001b[1m2s\u001b[0m 4ms/step\n"
     ]
    }
   ],
   "source": [
    "# Process Test Data\n",
    "X_test = preprocessor.transform(test_data.drop(columns=['ID'], errors='ignore'))\n",
    "test_predictions = (model.predict(X_test) > 0.5).astype(int)"
   ]
  },
  {
   "cell_type": "code",
   "execution_count": 24,
   "metadata": {
    "id": "8cyGgtXCzOxc"
   },
   "outputs": [],
   "source": [
    "# Generate Submission File\n",
    "submission = pd.DataFrame({'ID': test_data['ID'], 'target': test_predictions.flatten()})\n",
    "submission.to_csv('111.csv', index=False)"
   ]
  }
 ],
 "metadata": {
  "colab": {
   "provenance": []
  },
  "kernelspec": {
   "display_name": "Python 3 (ipykernel)",
   "language": "python",
   "name": "python3"
  },
  "language_info": {
   "codemirror_mode": {
    "name": "ipython",
    "version": 3
   },
   "file_extension": ".py",
   "mimetype": "text/x-python",
   "name": "python",
   "nbconvert_exporter": "python",
   "pygments_lexer": "ipython3",
   "version": "3.11.5"
  },
  "widgets": {
   "application/vnd.jupyter.widget-state+json": {
    "state": {},
    "version_major": 2,
    "version_minor": 0
   }
  }
 },
 "nbformat": 4,
 "nbformat_minor": 4
}
